{
 "cells": [
  {
   "cell_type": "markdown",
   "metadata": {},
   "source": [
    "# WeRateDogs data wrangling exercise\n",
    "\n",
    "Jose María Prieto - Udacity student\n",
    "\n",
    "### Your goal: \n",
    "wrangle WeRateDogs Twitter data to create interesting and trustworthy analyses and visualizations. \n",
    "Twitter archive is great, but it only contains very basic tweet information. Additional gathering, then assessing \n",
    "and cleaning is required for \"Wow!\"-worthy analyses and visualizations.\n",
    "\n",
    "The requirements of this project are only to assess and clean at least 8 quality issues and at least 2 tidiness issues in this dataset.\n",
    "\n",
    "\n",
    "__Key points to keep in mind when data wrangling for this project:__\n",
    "\n",
    "- You only want original ratings (no retweets) that have images. Though there are 5000+ tweets in the dataset, not all are dog ratings and some are retweets.\n",
    "- Assessing and cleaning the entire dataset completely would require a lot of time, and is not necessary to practice and demonstrate your skills in data wrangling. Therefore, the requirements of this project are only to assess and clean at least 8 quality issues and at least 2 tidiness issues in this dataset.\n",
    "- Cleaning includes merging individual pieces of data according to the rules of tidy data.\n",
    "- The fact that the rating numerators are greater than the denominators does not need to be cleaned. This unique rating system is a big part of the popularity of WeRateDogs.\n",
    "- You do not need to gather the tweets beyond August 1st, 2017. You can, but note that you won't be able to gather the image predictions for these tweets since you don't have access to the algorithm used.\n",
    "\n",
    "__Your tasks in this project are as follows:__\n",
    "\n",
    "- Gathering data\n",
    "- Assessing data\n",
    "- Cleaning data\n",
    "- Storing, analyzing, and visualizing your wrangled data\n",
    "- Reporting on 1) your data wrangling efforts and 2) your data analyses and visualizations\n",
    "\n",
    "__Gathering data__ \n",
    "\n",
    "Gather each of the following three pieces of data as described below in a Jupyter Notebook titled wrangle_act.ipynb:\n",
    "\n",
    "1) The WeRateDogs Twitter archive. Download this file manually: twitter_archive_enhanced.csv\n",
    "\n",
    "2) The tweet image predictions, i.e., what breed of dog (or other object, animal, etc.) is present in each tweet according to a neural network. This file (image_predictions.tsv) is hosted on Udacity's servers and should be downloaded programmatically using the Requests library and the following URL: https://d17h27t6h515a5.cloudfront.net/topher/2017/August/599fd2ad_image-predictions/image-predictions.tsv\n",
    "\n",
    "3) Each tweet's retweet count and favorite (\"like\") count at minimum, and any additional data you find interesting. Using the tweet IDs in the WeRateDogs Twitter archive, query the Twitter API for each tweet's JSON data using Python's Tweepy library and store each tweet's entire set of JSON data in a file called tweet_json.txt file. Each tweet's JSON data should be written to its own line. Then read this .txt file line by line into a pandas DataFrame with (at minimum) tweet ID, retweet count, and favorite count. Note: do not include your Twitter API keys, secrets, and tokens in your project submission.\n",
    "\n",
    "__Assessing Data for this Project__\n",
    "\n",
    "- After gathering each of the above pieces of data, assess them visually and programmatically for quality and tidiness issues. Detect and document at least eight **(8) quality issues and two (2) tidiness issues** in your wrangle_act.ipynb Jupyter Notebook. To meet specifications, the issues that satisfy the Project Motivation (see the Key Points header on the previous page) must be assessed.\n",
    "\n",
    "__Assessing Data for this Project__\n",
    "\n",
    "- After gathering each of the above pieces of data, assess them visually and programmatically for quality and tidiness issues. Detect and document at least eight **(8) quality issues and two (2) tidiness issues** in your wrangle_act.ipynb Jupyter Notebook. To meet specifications, the issues that satisfy the Project Motivation (see the Key Points header on the previous page) must be assessed.\n",
    "__Cleaning Data for this Project__\n",
    "\n",
    "- Clean each of the issues you documented while assessing. Perform this cleaning in wrangle_act.ipynb as well. The result should be a high quality and tidy master pandas DataFrame (or DataFrames, if appropriate). Again, the issues that satisfy the Project Motivation must be cleaned.\n",
    "\n",
    "__Storing, Analyzing, and Visualizing Data for this Project__\n",
    "\n",
    "- Store the clean DataFrame(s) in a CSV file with the main one named twitter_archive_master.csv. If additional files exist because multiple tables are required for tidiness, name these files appropriately. Additionally, you may store the cleaned data in a SQLite database (which is to be submitted as well if you do).\n",
    "\n",
    "- Analyze and visualize your wrangled data in your wrangle_act.ipynb Jupyter Notebook. **At least three (3) insights and one (1) visualization** must be produced.\n",
    "\n",
    "__Reporting for this Project__\n",
    "\n",
    "- Create a 300-600 word written report called wrangle_report.pdf or wrangle_report.html that briefly describes your wrangling efforts. This is to be framed as an internal document.\n",
    "\n",
    "- Create a 250-word-minimum written report called act_report.pdf or act_report.html that communicates the insights and displays the visualization(s) produced from your wrangled data. This is to be framed as an external document, like a blog post or magazine article, for example.\n",
    "\n"
   ]
  },
  {
   "cell_type": "code",
   "execution_count": 271,
   "metadata": {},
   "outputs": [],
   "source": [
    "#importing the needed lybraries for the exercise\n",
    "import pandas as pd\n",
    "import numpy as np\n",
    "import requests \n",
    "import tweepy \n",
    "import json \n",
    "import time\n",
    "from timeit import default_timer as timer\n",
    "import matplotlib.pyplot as plt\n",
    "%matplotlib inline\n",
    "import seaborn as sns\n",
    "import re\n",
    "from sqlalchemy import create_engine\n",
    "pd.options.display.max_rows\n",
    "pd.set_option('display.max_colwidth', 0)"
   ]
  },
  {
   "cell_type": "markdown",
   "metadata": {},
   "source": [
    "# Data Gathering"
   ]
  },
  {
   "cell_type": "markdown",
   "metadata": {},
   "source": [
    "1) The WeRateDogs Twitter archive. Download this file manually: twitter_archive_enhanced.csv"
   ]
  },
  {
   "cell_type": "code",
   "execution_count": 272,
   "metadata": {},
   "outputs": [],
   "source": [
    "#We gather the data from the csv file and load in into a pandas dataframe\n",
    "df1_tweets_archive = pd.read_csv('twitter-archive-enhanced.csv')\n",
    "\n",
    "#df1_tweets_archive.shape # (2356, 17)\n",
    "#df1_tweets_archive.describe()\n",
    "#df1_tweets_archive.sample(1).expanded_urls\n",
    "#df1_tweets_archive.sample(1).iloc[0].expanded_urls"
   ]
  },
  {
   "cell_type": "code",
   "execution_count": 273,
   "metadata": {},
   "outputs": [
    {
     "data": {
      "text/html": [
       "<div>\n",
       "<style scoped>\n",
       "    .dataframe tbody tr th:only-of-type {\n",
       "        vertical-align: middle;\n",
       "    }\n",
       "\n",
       "    .dataframe tbody tr th {\n",
       "        vertical-align: top;\n",
       "    }\n",
       "\n",
       "    .dataframe thead th {\n",
       "        text-align: right;\n",
       "    }\n",
       "</style>\n",
       "<table border=\"1\" class=\"dataframe\">\n",
       "  <thead>\n",
       "    <tr style=\"text-align: right;\">\n",
       "      <th></th>\n",
       "      <th>tweet_id</th>\n",
       "      <th>in_reply_to_status_id</th>\n",
       "      <th>in_reply_to_user_id</th>\n",
       "      <th>timestamp</th>\n",
       "      <th>source</th>\n",
       "      <th>text</th>\n",
       "      <th>retweeted_status_id</th>\n",
       "      <th>retweeted_status_user_id</th>\n",
       "      <th>retweeted_status_timestamp</th>\n",
       "      <th>expanded_urls</th>\n",
       "      <th>rating_numerator</th>\n",
       "      <th>rating_denominator</th>\n",
       "      <th>name</th>\n",
       "      <th>doggo</th>\n",
       "      <th>floofer</th>\n",
       "      <th>pupper</th>\n",
       "      <th>puppo</th>\n",
       "    </tr>\n",
       "  </thead>\n",
       "  <tbody>\n",
       "    <tr>\n",
       "      <th>902</th>\n",
       "      <td>758467244762497024</td>\n",
       "      <td>NaN</td>\n",
       "      <td>NaN</td>\n",
       "      <td>2016-07-28 01:00:57 +0000</td>\n",
       "      <td>&lt;a href=\"http://twitter.com/download/iphone\" rel=\"nofollow\"&gt;Twitter for iPhone&lt;/a&gt;</td>\n",
       "      <td>Why does this never happen at my front door... 165/150 https://t.co/HmwrdfEfUE</td>\n",
       "      <td>NaN</td>\n",
       "      <td>NaN</td>\n",
       "      <td>NaN</td>\n",
       "      <td>https://twitter.com/dog_rates/status/758467244762497024/video/1</td>\n",
       "      <td>165</td>\n",
       "      <td>150</td>\n",
       "      <td>None</td>\n",
       "      <td>None</td>\n",
       "      <td>None</td>\n",
       "      <td>None</td>\n",
       "      <td>None</td>\n",
       "    </tr>\n",
       "  </tbody>\n",
       "</table>\n",
       "</div>"
      ],
      "text/plain": [
       "               tweet_id  in_reply_to_status_id  in_reply_to_user_id  \\\n",
       "902  758467244762497024 NaN                    NaN                    \n",
       "\n",
       "                     timestamp  \\\n",
       "902  2016-07-28 01:00:57 +0000   \n",
       "\n",
       "                                                                                 source  \\\n",
       "902  <a href=\"http://twitter.com/download/iphone\" rel=\"nofollow\">Twitter for iPhone</a>   \n",
       "\n",
       "                                                                               text  \\\n",
       "902  Why does this never happen at my front door... 165/150 https://t.co/HmwrdfEfUE   \n",
       "\n",
       "     retweeted_status_id  retweeted_status_user_id retweeted_status_timestamp  \\\n",
       "902 NaN                  NaN                        NaN                         \n",
       "\n",
       "                                                       expanded_urls  \\\n",
       "902  https://twitter.com/dog_rates/status/758467244762497024/video/1   \n",
       "\n",
       "     rating_numerator  rating_denominator  name doggo floofer pupper puppo  \n",
       "902  165               150                 None  None  None    None   None  "
      ]
     },
     "execution_count": 273,
     "metadata": {},
     "output_type": "execute_result"
    }
   ],
   "source": [
    "df1_tweets_archive.sample(1) #checking content"
   ]
  },
  {
   "cell_type": "code",
   "execution_count": 274,
   "metadata": {},
   "outputs": [
    {
     "name": "stdout",
     "output_type": "stream",
     "text": [
      "<class 'pandas.core.frame.DataFrame'>\n",
      "RangeIndex: 2356 entries, 0 to 2355\n",
      "Data columns (total 17 columns):\n",
      " #   Column                      Non-Null Count  Dtype  \n",
      "---  ------                      --------------  -----  \n",
      " 0   tweet_id                    2356 non-null   int64  \n",
      " 1   in_reply_to_status_id       78 non-null     float64\n",
      " 2   in_reply_to_user_id         78 non-null     float64\n",
      " 3   timestamp                   2356 non-null   object \n",
      " 4   source                      2356 non-null   object \n",
      " 5   text                        2356 non-null   object \n",
      " 6   retweeted_status_id         181 non-null    float64\n",
      " 7   retweeted_status_user_id    181 non-null    float64\n",
      " 8   retweeted_status_timestamp  181 non-null    object \n",
      " 9   expanded_urls               2297 non-null   object \n",
      " 10  rating_numerator            2356 non-null   int64  \n",
      " 11  rating_denominator          2356 non-null   int64  \n",
      " 12  name                        2356 non-null   object \n",
      " 13  doggo                       2356 non-null   object \n",
      " 14  floofer                     2356 non-null   object \n",
      " 15  pupper                      2356 non-null   object \n",
      " 16  puppo                       2356 non-null   object \n",
      "dtypes: float64(4), int64(3), object(10)\n",
      "memory usage: 313.0+ KB\n"
     ]
    }
   ],
   "source": [
    "df1_tweets_archive.info() #checking content"
   ]
  },
  {
   "cell_type": "markdown",
   "metadata": {},
   "source": [
    "2) The tweet image predictions, i.e., what breed of dog (or other object, animal, etc.) is present in each tweet according to a neural network. This file (image_predictions.tsv) is hosted on Udacity's servers and should be downloaded programmatically using the Requests library and the following URL: https://d17h27t6h515a5.cloudfront.net/topher/2017/August/599fd2ad_image-predictions/image-predictions.tsv"
   ]
  },
  {
   "cell_type": "code",
   "execution_count": 275,
   "metadata": {},
   "outputs": [],
   "source": [
    "#gathering data from the url using a request method get and then loading it into a file image_predictions.tsv\n",
    "with open('image_predictions.tsv' , 'wb') as file:\n",
    "    predictions = requests.get('https://d17h27t6h515a5.cloudfront.net/topher/2017/August/599fd2ad_image-predictions/image-predictions.tsv', auth=('user', 'pass'))\n",
    "    file.write(predictions.content)"
   ]
  },
  {
   "cell_type": "code",
   "execution_count": 276,
   "metadata": {},
   "outputs": [],
   "source": [
    "# creating a Pandas dataframe from the created tsv file\n",
    "df2_predictions = pd.read_csv('image_predictions.tsv', sep='\\t')"
   ]
  },
  {
   "cell_type": "code",
   "execution_count": 277,
   "metadata": {},
   "outputs": [
    {
     "data": {
      "text/html": [
       "<div>\n",
       "<style scoped>\n",
       "    .dataframe tbody tr th:only-of-type {\n",
       "        vertical-align: middle;\n",
       "    }\n",
       "\n",
       "    .dataframe tbody tr th {\n",
       "        vertical-align: top;\n",
       "    }\n",
       "\n",
       "    .dataframe thead th {\n",
       "        text-align: right;\n",
       "    }\n",
       "</style>\n",
       "<table border=\"1\" class=\"dataframe\">\n",
       "  <thead>\n",
       "    <tr style=\"text-align: right;\">\n",
       "      <th></th>\n",
       "      <th>tweet_id</th>\n",
       "      <th>jpg_url</th>\n",
       "      <th>img_num</th>\n",
       "      <th>p1</th>\n",
       "      <th>p1_conf</th>\n",
       "      <th>p1_dog</th>\n",
       "      <th>p2</th>\n",
       "      <th>p2_conf</th>\n",
       "      <th>p2_dog</th>\n",
       "      <th>p3</th>\n",
       "      <th>p3_conf</th>\n",
       "      <th>p3_dog</th>\n",
       "    </tr>\n",
       "  </thead>\n",
       "  <tbody>\n",
       "    <tr>\n",
       "      <th>192</th>\n",
       "      <td>669567591774625800</td>\n",
       "      <td>https://pbs.twimg.com/media/CUrIK1DWoAAhECq.jpg</td>\n",
       "      <td>1</td>\n",
       "      <td>Chihuahua</td>\n",
       "      <td>0.980511</td>\n",
       "      <td>True</td>\n",
       "      <td>toy_terrier</td>\n",
       "      <td>0.009166</td>\n",
       "      <td>True</td>\n",
       "      <td>miniature_pinscher</td>\n",
       "      <td>0.002659</td>\n",
       "      <td>True</td>\n",
       "    </tr>\n",
       "  </tbody>\n",
       "</table>\n",
       "</div>"
      ],
      "text/plain": [
       "               tweet_id                                          jpg_url  \\\n",
       "192  669567591774625800  https://pbs.twimg.com/media/CUrIK1DWoAAhECq.jpg   \n",
       "\n",
       "     img_num         p1   p1_conf  p1_dog           p2   p2_conf  p2_dog  \\\n",
       "192  1        Chihuahua  0.980511  True    toy_terrier  0.009166  True     \n",
       "\n",
       "                     p3   p3_conf  p3_dog  \n",
       "192  miniature_pinscher  0.002659  True    "
      ]
     },
     "execution_count": 277,
     "metadata": {},
     "output_type": "execute_result"
    }
   ],
   "source": [
    "df2_predictions.sample() #checking content"
   ]
  },
  {
   "cell_type": "code",
   "execution_count": 278,
   "metadata": {},
   "outputs": [
    {
     "name": "stdout",
     "output_type": "stream",
     "text": [
      "<class 'pandas.core.frame.DataFrame'>\n",
      "RangeIndex: 2075 entries, 0 to 2074\n",
      "Data columns (total 12 columns):\n",
      " #   Column    Non-Null Count  Dtype  \n",
      "---  ------    --------------  -----  \n",
      " 0   tweet_id  2075 non-null   int64  \n",
      " 1   jpg_url   2075 non-null   object \n",
      " 2   img_num   2075 non-null   int64  \n",
      " 3   p1        2075 non-null   object \n",
      " 4   p1_conf   2075 non-null   float64\n",
      " 5   p1_dog    2075 non-null   bool   \n",
      " 6   p2        2075 non-null   object \n",
      " 7   p2_conf   2075 non-null   float64\n",
      " 8   p2_dog    2075 non-null   bool   \n",
      " 9   p3        2075 non-null   object \n",
      " 10  p3_conf   2075 non-null   float64\n",
      " 11  p3_dog    2075 non-null   bool   \n",
      "dtypes: bool(3), float64(3), int64(2), object(4)\n",
      "memory usage: 152.1+ KB\n"
     ]
    }
   ],
   "source": [
    "df2_predictions.info() #checking content"
   ]
  },
  {
   "cell_type": "code",
   "execution_count": 279,
   "metadata": {},
   "outputs": [
    {
     "data": {
      "text/plain": [
       "tweet_id    675111688094527488                             \n",
       "jpg_url     https://pbs.twimg.com/media/CV56f54WsAEv4kJ.jpg\n",
       "img_num     1                                              \n",
       "p1          Labrador_retriever                             \n",
       "p1_conf     0.631501                                       \n",
       "p1_dog      True                                           \n",
       "p2          Brittany_spaniel                               \n",
       "p2_conf     0.101927                                       \n",
       "p2_dog      True                                           \n",
       "p3          Chesapeake_Bay_retriever                       \n",
       "p3_conf     0.0626498                                      \n",
       "p3_dog      True                                           \n",
       "Name: 469, dtype: object"
      ]
     },
     "execution_count": 279,
     "metadata": {},
     "output_type": "execute_result"
    }
   ],
   "source": [
    "df2_predictions.sample(1).iloc[0] #checking content"
   ]
  },
  {
   "cell_type": "markdown",
   "metadata": {},
   "source": [
    "3) Each tweet's retweet count and favorite (\"like\") count at minimum, and any additional data you find interesting. Using the tweet IDs in the WeRateDogs Twitter archive, query the Twitter API for each tweet's JSON data using Python's Tweepy library and store each tweet's entire set of JSON data in a file called tweet_json.txt file. Each tweet's JSON data should be written to its own line. Then read this .txt file line by line into a pandas DataFrame with (at minimum) tweet ID, retweet count, and favorite count. Note: do not include your Twitter API keys, secrets, and tokens in your project submission.\n"
   ]
  },
  {
   "cell_type": "code",
   "execution_count": 280,
   "metadata": {},
   "outputs": [],
   "source": [
    "\n",
    "#tweet_ids = df1_tweets_archive.tweet_id.values\n",
    "#len(tweet_ids)#Checking the number of Tweet ids #2356#consumer_key = 'YOUR CONSUMER KEY'\n",
    "\n",
    "#consumer_secret = 'YOUR CONSUMER SECRET'\n",
    "#access_token = 'YOUR ACCESS TOKEN'\n",
    "#access_secret = 'YOUR ACCESS SECRET'\n",
    "\n",
    "#auth = tweepy.OAuthHandler(consumer_key, consumer_secret)\n",
    "#auth.set_access_token(access_token, access_secret)\n",
    "\n",
    "#api = tweepy.API(auth)\n",
    "#tweet = api.get_status(tweet_id, tweet_mode='extended')\n",
    "#print(tweet['text'])api = tweepy.API(auth, wait_on_rate_limit=True)\n",
    "\n",
    "# NOTE TO REVIEWER: Twitter didn´t provided my access on time so I had to use this method\n",
    "# Twitter API code was sent to this student from a Udacity instructor\n",
    "# Tweet IDs for which to gather additional data via Twitter's API\n",
    "\n",
    "\n",
    "# Query Twitter's API for JSON data for each tweet ID in the Twitter archive\n",
    "#count = 0\n",
    "#fails_dict = {}\n",
    "#start = timer()\n",
    "# Save each tweet's returned JSON as a new line in a .txt file\n",
    "#with open('tweet_json.txt', 'w') as outfile:\n",
    "#    for tweet_id in tweet_ids:\n",
    "#        count += 1\n",
    "#        print(str(count) + \": \" + str(tweet_id))\n",
    "#        try:\n",
    "#            tweet = api.get_status(tweet_id, tweet_mode='extended')\n",
    "#            print(\"Success\")\n",
    "#            json.dump(tweet._json, outfile)\n",
    "#            outfile.write('\\n')\n",
    "#        except tweepy.TweepError as e:\n",
    "#            print(\"Fail\")\n",
    "#            fails_dict[tweet_id] = e\n",
    "#            pass\n",
    "#end = timer()\n",
    "#print(end - start)\n",
    "#print(fails_dict)\n",
    "\n",
    "#Above code tested for tweeter API but failing due to missing credentials\n",
    "\n",
    "#I will be using directly the provided json file\n",
    "tweet_json = 'tweet-json.txt'\n",
    "df3_tweet_API = pd.read_json(tweet_json, lines = True,encoding='utf-8')"
   ]
  },
  {
   "cell_type": "markdown",
   "metadata": {},
   "source": [
    "# Data Assessment\n",
    "__Assessing Data for this Project__\n",
    "\n",
    "- After gathering each of the above pieces of data, assess them visually and programmatically for quality and tidiness issues. Detect and document at least eight **(8) quality issues and two (2) tidiness issues** in your wrangle_act.ipynb Jupyter Notebook. To meet specifications, the issues that satisfy the Project Motivation (see the Key Points header on the previous page) must be assessed."
   ]
  },
  {
   "cell_type": "code",
   "execution_count": 281,
   "metadata": {},
   "outputs": [
    {
     "data": {
      "text/html": [
       "<div>\n",
       "<style scoped>\n",
       "    .dataframe tbody tr th:only-of-type {\n",
       "        vertical-align: middle;\n",
       "    }\n",
       "\n",
       "    .dataframe tbody tr th {\n",
       "        vertical-align: top;\n",
       "    }\n",
       "\n",
       "    .dataframe thead th {\n",
       "        text-align: right;\n",
       "    }\n",
       "</style>\n",
       "<table border=\"1\" class=\"dataframe\">\n",
       "  <thead>\n",
       "    <tr style=\"text-align: right;\">\n",
       "      <th></th>\n",
       "      <th>created_at</th>\n",
       "      <th>id</th>\n",
       "      <th>id_str</th>\n",
       "      <th>full_text</th>\n",
       "      <th>truncated</th>\n",
       "      <th>display_text_range</th>\n",
       "      <th>entities</th>\n",
       "      <th>extended_entities</th>\n",
       "      <th>source</th>\n",
       "      <th>in_reply_to_status_id</th>\n",
       "      <th>...</th>\n",
       "      <th>favorite_count</th>\n",
       "      <th>favorited</th>\n",
       "      <th>retweeted</th>\n",
       "      <th>possibly_sensitive</th>\n",
       "      <th>possibly_sensitive_appealable</th>\n",
       "      <th>lang</th>\n",
       "      <th>retweeted_status</th>\n",
       "      <th>quoted_status_id</th>\n",
       "      <th>quoted_status_id_str</th>\n",
       "      <th>quoted_status</th>\n",
       "    </tr>\n",
       "  </thead>\n",
       "  <tbody>\n",
       "    <tr>\n",
       "      <th>0</th>\n",
       "      <td>2017-08-01 16:23:56+00:00</td>\n",
       "      <td>892420643555336193</td>\n",
       "      <td>892420643555336192</td>\n",
       "      <td>This is Phineas. He's a mystical boy. Only ever appears in the hole of a donut. 13/10 https://t.co/MgUWQ76dJU</td>\n",
       "      <td>False</td>\n",
       "      <td>[0, 85]</td>\n",
       "      <td>{'hashtags': [], 'symbols': [], 'user_mentions': [], 'urls': [], 'media': [{'id': 892420639486877696, 'id_str': '892420639486877696', 'indices': [86, 109], 'media_url': 'http://pbs.twimg.com/media/DGKD1-bXoAAIAUK.jpg', 'media_url_https': 'https://pbs.twimg.com/media/DGKD1-bXoAAIAUK.jpg', 'url': 'https://t.co/MgUWQ76dJU', 'display_url': 'pic.twitter.com/MgUWQ76dJU', 'expanded_url': 'https://twitter.com/dog_rates/status/892420643555336193/photo/1', 'type': 'photo', 'sizes': {'large': {'w': 540, 'h': 528, 'resize': 'fit'}, 'thumb': {'w': 150, 'h': 150, 'resize': 'crop'}, 'small': {'w': 540, 'h': 528, 'resize': 'fit'}, 'medium': {'w': 540, 'h': 528, 'resize': 'fit'}}}]}</td>\n",
       "      <td>{'media': [{'id': 892420639486877696, 'id_str': '892420639486877696', 'indices': [86, 109], 'media_url': 'http://pbs.twimg.com/media/DGKD1-bXoAAIAUK.jpg', 'media_url_https': 'https://pbs.twimg.com/media/DGKD1-bXoAAIAUK.jpg', 'url': 'https://t.co/MgUWQ76dJU', 'display_url': 'pic.twitter.com/MgUWQ76dJU', 'expanded_url': 'https://twitter.com/dog_rates/status/892420643555336193/photo/1', 'type': 'photo', 'sizes': {'large': {'w': 540, 'h': 528, 'resize': 'fit'}, 'thumb': {'w': 150, 'h': 150, 'resize': 'crop'}, 'small': {'w': 540, 'h': 528, 'resize': 'fit'}, 'medium': {'w': 540, 'h': 528, 'resize': 'fit'}}}]}</td>\n",
       "      <td>&lt;a href=\"http://twitter.com/download/iphone\" rel=\"nofollow\"&gt;Twitter for iPhone&lt;/a&gt;</td>\n",
       "      <td>NaN</td>\n",
       "      <td>...</td>\n",
       "      <td>39467</td>\n",
       "      <td>False</td>\n",
       "      <td>False</td>\n",
       "      <td>0.0</td>\n",
       "      <td>0.0</td>\n",
       "      <td>en</td>\n",
       "      <td>NaN</td>\n",
       "      <td>NaN</td>\n",
       "      <td>NaN</td>\n",
       "      <td>NaN</td>\n",
       "    </tr>\n",
       "    <tr>\n",
       "      <th>1</th>\n",
       "      <td>2017-08-01 00:17:27+00:00</td>\n",
       "      <td>892177421306343426</td>\n",
       "      <td>892177421306343424</td>\n",
       "      <td>This is Tilly. She's just checking pup on you. Hopes you're doing ok. If not, she's available for pats, snugs, boops, the whole bit. 13/10 https://t.co/0Xxu71qeIV</td>\n",
       "      <td>False</td>\n",
       "      <td>[0, 138]</td>\n",
       "      <td>{'hashtags': [], 'symbols': [], 'user_mentions': [], 'urls': [], 'media': [{'id': 892177413194625024, 'id_str': '892177413194625024', 'indices': [139, 162], 'media_url': 'http://pbs.twimg.com/media/DGGmoV4XsAAUL6n.jpg', 'media_url_https': 'https://pbs.twimg.com/media/DGGmoV4XsAAUL6n.jpg', 'url': 'https://t.co/0Xxu71qeIV', 'display_url': 'pic.twitter.com/0Xxu71qeIV', 'expanded_url': 'https://twitter.com/dog_rates/status/892177421306343426/photo/1', 'type': 'photo', 'sizes': {'large': {'w': 1407, 'h': 1600, 'resize': 'fit'}, 'thumb': {'w': 150, 'h': 150, 'resize': 'crop'}, 'small': {'w': 598, 'h': 680, 'resize': 'fit'}, 'medium': {'w': 1055, 'h': 1200, 'resize': 'fit'}}}]}</td>\n",
       "      <td>{'media': [{'id': 892177413194625024, 'id_str': '892177413194625024', 'indices': [139, 162], 'media_url': 'http://pbs.twimg.com/media/DGGmoV4XsAAUL6n.jpg', 'media_url_https': 'https://pbs.twimg.com/media/DGGmoV4XsAAUL6n.jpg', 'url': 'https://t.co/0Xxu71qeIV', 'display_url': 'pic.twitter.com/0Xxu71qeIV', 'expanded_url': 'https://twitter.com/dog_rates/status/892177421306343426/photo/1', 'type': 'photo', 'sizes': {'large': {'w': 1407, 'h': 1600, 'resize': 'fit'}, 'thumb': {'w': 150, 'h': 150, 'resize': 'crop'}, 'small': {'w': 598, 'h': 680, 'resize': 'fit'}, 'medium': {'w': 1055, 'h': 1200, 'resize': 'fit'}}}]}</td>\n",
       "      <td>&lt;a href=\"http://twitter.com/download/iphone\" rel=\"nofollow\"&gt;Twitter for iPhone&lt;/a&gt;</td>\n",
       "      <td>NaN</td>\n",
       "      <td>...</td>\n",
       "      <td>33819</td>\n",
       "      <td>False</td>\n",
       "      <td>False</td>\n",
       "      <td>0.0</td>\n",
       "      <td>0.0</td>\n",
       "      <td>en</td>\n",
       "      <td>NaN</td>\n",
       "      <td>NaN</td>\n",
       "      <td>NaN</td>\n",
       "      <td>NaN</td>\n",
       "    </tr>\n",
       "  </tbody>\n",
       "</table>\n",
       "<p>2 rows × 31 columns</p>\n",
       "</div>"
      ],
      "text/plain": [
       "                 created_at                  id              id_str  \\\n",
       "0 2017-08-01 16:23:56+00:00  892420643555336193  892420643555336192   \n",
       "1 2017-08-01 00:17:27+00:00  892177421306343426  892177421306343424   \n",
       "\n",
       "                                                                                                                                                            full_text  \\\n",
       "0  This is Phineas. He's a mystical boy. Only ever appears in the hole of a donut. 13/10 https://t.co/MgUWQ76dJU                                                        \n",
       "1  This is Tilly. She's just checking pup on you. Hopes you're doing ok. If not, she's available for pats, snugs, boops, the whole bit. 13/10 https://t.co/0Xxu71qeIV   \n",
       "\n",
       "   truncated display_text_range  \\\n",
       "0  False      [0, 85]             \n",
       "1  False      [0, 138]            \n",
       "\n",
       "                                                                                                                                                                                                                                                                                                                                                                                                                                                                                                                                                                                                                                                                                                  entities  \\\n",
       "0  {'hashtags': [], 'symbols': [], 'user_mentions': [], 'urls': [], 'media': [{'id': 892420639486877696, 'id_str': '892420639486877696', 'indices': [86, 109], 'media_url': 'http://pbs.twimg.com/media/DGKD1-bXoAAIAUK.jpg', 'media_url_https': 'https://pbs.twimg.com/media/DGKD1-bXoAAIAUK.jpg', 'url': 'https://t.co/MgUWQ76dJU', 'display_url': 'pic.twitter.com/MgUWQ76dJU', 'expanded_url': 'https://twitter.com/dog_rates/status/892420643555336193/photo/1', 'type': 'photo', 'sizes': {'large': {'w': 540, 'h': 528, 'resize': 'fit'}, 'thumb': {'w': 150, 'h': 150, 'resize': 'crop'}, 'small': {'w': 540, 'h': 528, 'resize': 'fit'}, 'medium': {'w': 540, 'h': 528, 'resize': 'fit'}}}]}        \n",
       "1  {'hashtags': [], 'symbols': [], 'user_mentions': [], 'urls': [], 'media': [{'id': 892177413194625024, 'id_str': '892177413194625024', 'indices': [139, 162], 'media_url': 'http://pbs.twimg.com/media/DGGmoV4XsAAUL6n.jpg', 'media_url_https': 'https://pbs.twimg.com/media/DGGmoV4XsAAUL6n.jpg', 'url': 'https://t.co/0Xxu71qeIV', 'display_url': 'pic.twitter.com/0Xxu71qeIV', 'expanded_url': 'https://twitter.com/dog_rates/status/892177421306343426/photo/1', 'type': 'photo', 'sizes': {'large': {'w': 1407, 'h': 1600, 'resize': 'fit'}, 'thumb': {'w': 150, 'h': 150, 'resize': 'crop'}, 'small': {'w': 598, 'h': 680, 'resize': 'fit'}, 'medium': {'w': 1055, 'h': 1200, 'resize': 'fit'}}}]}   \n",
       "\n",
       "                                                                                                                                                                                                                                                                                                                                                                                                                                                                                                                                                                                                                         extended_entities  \\\n",
       "0  {'media': [{'id': 892420639486877696, 'id_str': '892420639486877696', 'indices': [86, 109], 'media_url': 'http://pbs.twimg.com/media/DGKD1-bXoAAIAUK.jpg', 'media_url_https': 'https://pbs.twimg.com/media/DGKD1-bXoAAIAUK.jpg', 'url': 'https://t.co/MgUWQ76dJU', 'display_url': 'pic.twitter.com/MgUWQ76dJU', 'expanded_url': 'https://twitter.com/dog_rates/status/892420643555336193/photo/1', 'type': 'photo', 'sizes': {'large': {'w': 540, 'h': 528, 'resize': 'fit'}, 'thumb': {'w': 150, 'h': 150, 'resize': 'crop'}, 'small': {'w': 540, 'h': 528, 'resize': 'fit'}, 'medium': {'w': 540, 'h': 528, 'resize': 'fit'}}}]}        \n",
       "1  {'media': [{'id': 892177413194625024, 'id_str': '892177413194625024', 'indices': [139, 162], 'media_url': 'http://pbs.twimg.com/media/DGGmoV4XsAAUL6n.jpg', 'media_url_https': 'https://pbs.twimg.com/media/DGGmoV4XsAAUL6n.jpg', 'url': 'https://t.co/0Xxu71qeIV', 'display_url': 'pic.twitter.com/0Xxu71qeIV', 'expanded_url': 'https://twitter.com/dog_rates/status/892177421306343426/photo/1', 'type': 'photo', 'sizes': {'large': {'w': 1407, 'h': 1600, 'resize': 'fit'}, 'thumb': {'w': 150, 'h': 150, 'resize': 'crop'}, 'small': {'w': 598, 'h': 680, 'resize': 'fit'}, 'medium': {'w': 1055, 'h': 1200, 'resize': 'fit'}}}]}   \n",
       "\n",
       "                                                                               source  \\\n",
       "0  <a href=\"http://twitter.com/download/iphone\" rel=\"nofollow\">Twitter for iPhone</a>   \n",
       "1  <a href=\"http://twitter.com/download/iphone\" rel=\"nofollow\">Twitter for iPhone</a>   \n",
       "\n",
       "   in_reply_to_status_id  ...  favorite_count  favorited  retweeted  \\\n",
       "0 NaN                     ...  39467           False      False       \n",
       "1 NaN                     ...  33819           False      False       \n",
       "\n",
       "  possibly_sensitive possibly_sensitive_appealable  lang  retweeted_status  \\\n",
       "0  0.0                0.0                           en    NaN                \n",
       "1  0.0                0.0                           en    NaN                \n",
       "\n",
       "  quoted_status_id  quoted_status_id_str  quoted_status  \n",
       "0 NaN              NaN                    NaN            \n",
       "1 NaN              NaN                    NaN            \n",
       "\n",
       "[2 rows x 31 columns]"
      ]
     },
     "execution_count": 281,
     "metadata": {},
     "output_type": "execute_result"
    }
   ],
   "source": [
    "#Gathered dataframes ready for next Assessment\n",
    "df1_tweets_archive\n",
    "df2_predictions\n",
    "df3_tweet_API.head(2)"
   ]
  },
  {
   "cell_type": "code",
   "execution_count": 282,
   "metadata": {},
   "outputs": [
    {
     "data": {
      "text/plain": [
       "0    892420643555336193\n",
       "1    892177421306343426\n",
       "Name: tweet_id, dtype: int64"
      ]
     },
     "execution_count": 282,
     "metadata": {},
     "output_type": "execute_result"
    }
   ],
   "source": [
    "df1_tweets_archive.tweet_id.head(2)"
   ]
  },
  {
   "cell_type": "code",
   "execution_count": 283,
   "metadata": {},
   "outputs": [
    {
     "data": {
      "text/plain": [
       "10     2333\n",
       "11     3   \n",
       "50     3   \n",
       "80     2   \n",
       "20     2   \n",
       "2      1   \n",
       "16     1   \n",
       "40     1   \n",
       "70     1   \n",
       "15     1   \n",
       "90     1   \n",
       "110    1   \n",
       "120    1   \n",
       "130    1   \n",
       "150    1   \n",
       "170    1   \n",
       "7      1   \n",
       "0      1   \n",
       "Name: rating_denominator, dtype: int64"
      ]
     },
     "execution_count": 283,
     "metadata": {},
     "output_type": "execute_result"
    }
   ],
   "source": [
    "#reviewing visually the tweets table\n",
    "df1_tweets_archive.rating_denominator.value_counts()"
   ]
  },
  {
   "cell_type": "code",
   "execution_count": 284,
   "metadata": {},
   "outputs": [
    {
     "data": {
      "text/plain": [
       "12      558\n",
       "11      464\n",
       "10      461\n",
       "13      351\n",
       "9       158\n",
       "8       102\n",
       "7       55 \n",
       "14      54 \n",
       "5       37 \n",
       "6       32 \n",
       "3       19 \n",
       "4       17 \n",
       "1       9  \n",
       "2       9  \n",
       "420     2  \n",
       "0       2  \n",
       "15      2  \n",
       "75      2  \n",
       "80      1  \n",
       "20      1  \n",
       "24      1  \n",
       "26      1  \n",
       "44      1  \n",
       "50      1  \n",
       "60      1  \n",
       "165     1  \n",
       "84      1  \n",
       "88      1  \n",
       "144     1  \n",
       "182     1  \n",
       "143     1  \n",
       "666     1  \n",
       "960     1  \n",
       "1776    1  \n",
       "17      1  \n",
       "27      1  \n",
       "45      1  \n",
       "99      1  \n",
       "121     1  \n",
       "204     1  \n",
       "Name: rating_numerator, dtype: int64"
      ]
     },
     "execution_count": 284,
     "metadata": {},
     "output_type": "execute_result"
    }
   ],
   "source": [
    "df1_tweets_archive.rating_numerator.value_counts()"
   ]
  },
  {
   "cell_type": "code",
   "execution_count": 285,
   "metadata": {},
   "outputs": [
    {
     "data": {
      "text/plain": [
       "<a href=\"http://twitter.com/download/iphone\" rel=\"nofollow\">Twitter for iPhone</a>     2221\n",
       "<a href=\"http://vine.co\" rel=\"nofollow\">Vine - Make a Scene</a>                        91  \n",
       "<a href=\"http://twitter.com\" rel=\"nofollow\">Twitter Web Client</a>                     33  \n",
       "<a href=\"https://about.twitter.com/products/tweetdeck\" rel=\"nofollow\">TweetDeck</a>    11  \n",
       "Name: source, dtype: int64"
      ]
     },
     "execution_count": 285,
     "metadata": {},
     "output_type": "execute_result"
    }
   ],
   "source": [
    "df1_tweets_archive['source'].value_counts()"
   ]
  },
  {
   "cell_type": "code",
   "execution_count": 286,
   "metadata": {},
   "outputs": [
    {
     "data": {
      "text/plain": [
       "59"
      ]
     },
     "execution_count": 286,
     "metadata": {},
     "output_type": "execute_result"
    }
   ],
   "source": [
    "urls = df1_tweets_archive[~df1_tweets_archive['expanded_urls'].str.contains(\"photo\", na=False )]\n",
    "#urls.iloc[100].expanded_urls\n",
    "len(df1_tweets_archive[df1_tweets_archive.expanded_urls.isna()])"
   ]
  },
  {
   "cell_type": "code",
   "execution_count": 287,
   "metadata": {},
   "outputs": [
    {
     "data": {
      "text/plain": [
       "103"
      ]
     },
     "execution_count": 287,
     "metadata": {},
     "output_type": "execute_result"
    }
   ],
   "source": [
    "len(df1_tweets_archive[df1_tweets_archive['expanded_urls'].str.contains(\"vine\", na=False )])"
   ]
  },
  {
   "cell_type": "code",
   "execution_count": 288,
   "metadata": {},
   "outputs": [
    {
     "data": {
      "text/plain": [
       "82"
      ]
     },
     "execution_count": 288,
     "metadata": {},
     "output_type": "execute_result"
    }
   ],
   "source": [
    "len(df1_tweets_archive[df1_tweets_archive['expanded_urls'].str.contains(\"video\", na=False )])"
   ]
  },
  {
   "cell_type": "code",
   "execution_count": 289,
   "metadata": {},
   "outputs": [
    {
     "data": {
      "text/plain": [
       "False    2356\n",
       "dtype: int64"
      ]
     },
     "execution_count": 289,
     "metadata": {},
     "output_type": "execute_result"
    }
   ],
   "source": [
    "df1_tweets_archive.duplicated().value_counts() # there are no fully duplicated rows"
   ]
  },
  {
   "cell_type": "code",
   "execution_count": 290,
   "metadata": {},
   "outputs": [
    {
     "data": {
      "text/plain": [
       "None       745\n",
       "a          55 \n",
       "Charlie    12 \n",
       "Lucy       11 \n",
       "Oliver     11 \n",
       "Cooper     11 \n",
       "Lola       10 \n",
       "Tucker     10 \n",
       "Penny      10 \n",
       "Bo         9  \n",
       "Winston    9  \n",
       "the        8  \n",
       "Sadie      8  \n",
       "Buddy      7  \n",
       "Bailey     7  \n",
       "Toby       7  \n",
       "an         7  \n",
       "Daisy      7  \n",
       "Rusty      6  \n",
       "Stanley    6  \n",
       "Jack       6  \n",
       "Milo       6  \n",
       "Koda       6  \n",
       "Bella      6  \n",
       "Leo        6  \n",
       "Scout      6  \n",
       "Dave       6  \n",
       "Jax        6  \n",
       "Oscar      6  \n",
       "Louis      5  \n",
       "Name: name, dtype: int64"
      ]
     },
     "execution_count": 290,
     "metadata": {},
     "output_type": "execute_result"
    }
   ],
   "source": [
    "df1_tweets_archive.name.value_counts().head(30)"
   ]
  },
  {
   "cell_type": "code",
   "execution_count": 291,
   "metadata": {},
   "outputs": [
    {
     "data": {
      "text/plain": [
       "109"
      ]
     },
     "execution_count": 291,
     "metadata": {},
     "output_type": "execute_result"
    }
   ],
   "source": [
    "low_=df1_tweets_archive.name.str.contains('^[a-z]', regex = True) #finding non capital letter on dog names\n",
    "len(df1_tweets_archive[low_].name)"
   ]
  },
  {
   "cell_type": "code",
   "execution_count": 292,
   "metadata": {},
   "outputs": [
    {
     "data": {
      "text/html": [
       "<div>\n",
       "<style scoped>\n",
       "    .dataframe tbody tr th:only-of-type {\n",
       "        vertical-align: middle;\n",
       "    }\n",
       "\n",
       "    .dataframe tbody tr th {\n",
       "        vertical-align: top;\n",
       "    }\n",
       "\n",
       "    .dataframe thead th {\n",
       "        text-align: right;\n",
       "    }\n",
       "</style>\n",
       "<table border=\"1\" class=\"dataframe\">\n",
       "  <thead>\n",
       "    <tr style=\"text-align: right;\">\n",
       "      <th></th>\n",
       "      <th>in_reply_to_status_id</th>\n",
       "      <th>in_reply_to_user_id</th>\n",
       "    </tr>\n",
       "  </thead>\n",
       "  <tbody>\n",
       "    <tr>\n",
       "      <th>346</th>\n",
       "      <td>8.319030e+17</td>\n",
       "      <td>20683724.0</td>\n",
       "    </tr>\n",
       "    <tr>\n",
       "      <th>1914</th>\n",
       "      <td>6.658147e+17</td>\n",
       "      <td>16374678.0</td>\n",
       "    </tr>\n",
       "    <tr>\n",
       "      <th>857</th>\n",
       "      <td>7.638652e+17</td>\n",
       "      <td>15846407.0</td>\n",
       "    </tr>\n",
       "    <tr>\n",
       "      <th>427</th>\n",
       "      <td>8.211526e+17</td>\n",
       "      <td>113211856.0</td>\n",
       "    </tr>\n",
       "  </tbody>\n",
       "</table>\n",
       "</div>"
      ],
      "text/plain": [
       "      in_reply_to_status_id  in_reply_to_user_id\n",
       "346   8.319030e+17           20683724.0         \n",
       "1914  6.658147e+17           16374678.0         \n",
       "857   7.638652e+17           15846407.0         \n",
       "427   8.211526e+17           113211856.0        "
      ]
     },
     "execution_count": 292,
     "metadata": {},
     "output_type": "execute_result"
    }
   ],
   "source": [
    "replies=df1_tweets_archive[~df1_tweets_archive.in_reply_to_status_id.isnull()]\n",
    "replies[['in_reply_to_status_id','in_reply_to_user_id']].sample(4)\n"
   ]
  },
  {
   "cell_type": "code",
   "execution_count": 293,
   "metadata": {},
   "outputs": [
    {
     "name": "stdout",
     "output_type": "stream",
     "text": [
      "<class 'pandas.core.frame.DataFrame'>\n",
      "RangeIndex: 2356 entries, 0 to 2355\n",
      "Data columns (total 17 columns):\n",
      " #   Column                      Non-Null Count  Dtype  \n",
      "---  ------                      --------------  -----  \n",
      " 0   tweet_id                    2356 non-null   int64  \n",
      " 1   in_reply_to_status_id       78 non-null     float64\n",
      " 2   in_reply_to_user_id         78 non-null     float64\n",
      " 3   timestamp                   2356 non-null   object \n",
      " 4   source                      2356 non-null   object \n",
      " 5   text                        2356 non-null   object \n",
      " 6   retweeted_status_id         181 non-null    float64\n",
      " 7   retweeted_status_user_id    181 non-null    float64\n",
      " 8   retweeted_status_timestamp  181 non-null    object \n",
      " 9   expanded_urls               2297 non-null   object \n",
      " 10  rating_numerator            2356 non-null   int64  \n",
      " 11  rating_denominator          2356 non-null   int64  \n",
      " 12  name                        2356 non-null   object \n",
      " 13  doggo                       2356 non-null   object \n",
      " 14  floofer                     2356 non-null   object \n",
      " 15  pupper                      2356 non-null   object \n",
      " 16  puppo                       2356 non-null   object \n",
      "dtypes: float64(4), int64(3), object(10)\n",
      "memory usage: 313.0+ KB\n"
     ]
    }
   ],
   "source": [
    "df1_tweets_archive.info()"
   ]
  },
  {
   "cell_type": "markdown",
   "metadata": {},
   "source": [
    "#### Observations on df1_tweets_archive\n",
    "\n",
    "1. [Q] **rating_denominator** is 10 most of the time but there are few times with other values: 24/7s, 9/11s,1/2s,7/11 and then when there are multiple dogs they sum up the count \n",
    "- [Q] **rating_numerator** is usually between 1-15 but some values are out of scale\n",
    "- [Q] **Source** values are pieces of html code and are essentially 4 types (Iphone,Vine,tweet_web and TweetDeck)\n",
    "- [Q] 181 retweets (**retweeted_status_id, retweeted_status_user_id, retweeted_status_timestamp**)\n",
    "- [Q] 78 replies (**in_reply_to_status_id, in_reply_to_user_id**)\n",
    "- [Q] 2297 tweets with expanded_urls (links to images) 59 NaNs\n",
    "- [Q] 279 tweets that doesn´t contain a photo, some others contains (82) a Video or a vine (103) \n",
    "- [Q] The timestamps fields are strings not timedate (object)\n",
    "- [Q] There are 4 columns for dog stages (doggo, floofer, pupper, puppo)\n",
    "- [Q] In the name column there are 745 where the name of the dog was not captured, also 55 captured \"a\", and others like \"the\", \"an\" as names, fortunatelly names are put with capital letter so we can try to clean it later (109 of them to fix).\n",
    "\n",
    "\n",
    "1. [T]Four variables in one columns in `tweets` table (Doggo, floofer, pupper and puppo in one single column)\n"
   ]
  },
  {
   "cell_type": "code",
   "execution_count": 294,
   "metadata": {},
   "outputs": [
    {
     "data": {
      "text/html": [
       "<div>\n",
       "<style scoped>\n",
       "    .dataframe tbody tr th:only-of-type {\n",
       "        vertical-align: middle;\n",
       "    }\n",
       "\n",
       "    .dataframe tbody tr th {\n",
       "        vertical-align: top;\n",
       "    }\n",
       "\n",
       "    .dataframe thead th {\n",
       "        text-align: right;\n",
       "    }\n",
       "</style>\n",
       "<table border=\"1\" class=\"dataframe\">\n",
       "  <thead>\n",
       "    <tr style=\"text-align: right;\">\n",
       "      <th></th>\n",
       "      <th>tweet_id</th>\n",
       "      <th>jpg_url</th>\n",
       "      <th>img_num</th>\n",
       "      <th>p1</th>\n",
       "      <th>p1_conf</th>\n",
       "      <th>p1_dog</th>\n",
       "      <th>p2</th>\n",
       "      <th>p2_conf</th>\n",
       "      <th>p2_dog</th>\n",
       "      <th>p3</th>\n",
       "      <th>p3_conf</th>\n",
       "      <th>p3_dog</th>\n",
       "    </tr>\n",
       "  </thead>\n",
       "  <tbody>\n",
       "    <tr>\n",
       "      <th>588</th>\n",
       "      <td>679111216690831360</td>\n",
       "      <td>https://pbs.twimg.com/ext_tw_video_thumb/679111114081370114/pu/img/hFca8BHjRopgD0cM.jpg</td>\n",
       "      <td>1</td>\n",
       "      <td>kelpie</td>\n",
       "      <td>0.189423</td>\n",
       "      <td>True</td>\n",
       "      <td>beagle</td>\n",
       "      <td>0.121988</td>\n",
       "      <td>True</td>\n",
       "      <td>basset</td>\n",
       "      <td>0.121171</td>\n",
       "      <td>True</td>\n",
       "    </tr>\n",
       "    <tr>\n",
       "      <th>1762</th>\n",
       "      <td>826204788643753985</td>\n",
       "      <td>https://pbs.twimg.com/media/C3dEza1WcAAhlNU.jpg</td>\n",
       "      <td>2</td>\n",
       "      <td>Labrador_retriever</td>\n",
       "      <td>0.782058</td>\n",
       "      <td>True</td>\n",
       "      <td>golden_retriever</td>\n",
       "      <td>0.156581</td>\n",
       "      <td>True</td>\n",
       "      <td>soft-coated_wheaten_terrier</td>\n",
       "      <td>0.007275</td>\n",
       "      <td>True</td>\n",
       "    </tr>\n",
       "  </tbody>\n",
       "</table>\n",
       "</div>"
      ],
      "text/plain": [
       "                tweet_id  \\\n",
       "588   679111216690831360   \n",
       "1762  826204788643753985   \n",
       "\n",
       "                                                                                      jpg_url  \\\n",
       "588   https://pbs.twimg.com/ext_tw_video_thumb/679111114081370114/pu/img/hFca8BHjRopgD0cM.jpg   \n",
       "1762  https://pbs.twimg.com/media/C3dEza1WcAAhlNU.jpg                                           \n",
       "\n",
       "      img_num                  p1   p1_conf  p1_dog                p2  \\\n",
       "588   1        kelpie              0.189423  True    beagle             \n",
       "1762  2        Labrador_retriever  0.782058  True    golden_retriever   \n",
       "\n",
       "       p2_conf  p2_dog                           p3   p3_conf  p3_dog  \n",
       "588   0.121988  True    basset                       0.121171  True    \n",
       "1762  0.156581  True    soft-coated_wheaten_terrier  0.007275  True    "
      ]
     },
     "execution_count": 294,
     "metadata": {},
     "output_type": "execute_result"
    }
   ],
   "source": [
    "df2_predictions.sample(2)"
   ]
  },
  {
   "cell_type": "code",
   "execution_count": 295,
   "metadata": {},
   "outputs": [
    {
     "data": {
      "text/html": [
       "<div>\n",
       "<style scoped>\n",
       "    .dataframe tbody tr th:only-of-type {\n",
       "        vertical-align: middle;\n",
       "    }\n",
       "\n",
       "    .dataframe tbody tr th {\n",
       "        vertical-align: top;\n",
       "    }\n",
       "\n",
       "    .dataframe thead th {\n",
       "        text-align: right;\n",
       "    }\n",
       "</style>\n",
       "<table border=\"1\" class=\"dataframe\">\n",
       "  <thead>\n",
       "    <tr style=\"text-align: right;\">\n",
       "      <th></th>\n",
       "      <th>p1</th>\n",
       "      <th>jpg_url</th>\n",
       "    </tr>\n",
       "  </thead>\n",
       "  <tbody>\n",
       "    <tr>\n",
       "      <th>1932</th>\n",
       "      <td>Angora</td>\n",
       "      <td>https://pbs.twimg.com/ext_tw_video_thumb/859196962498805762/pu/img/-yBpr4-o4GJZECYE.jpg</td>\n",
       "    </tr>\n",
       "    <tr>\n",
       "      <th>1500</th>\n",
       "      <td>quilt</td>\n",
       "      <td>https://pbs.twimg.com/media/CuDCSM-XEAAJw1W.jpg</td>\n",
       "    </tr>\n",
       "    <tr>\n",
       "      <th>288</th>\n",
       "      <td>pitcher</td>\n",
       "      <td>https://pbs.twimg.com/media/CVBwNjVWwAAlUFQ.jpg</td>\n",
       "    </tr>\n",
       "  </tbody>\n",
       "</table>\n",
       "</div>"
      ],
      "text/plain": [
       "           p1  \\\n",
       "1932  Angora    \n",
       "1500  quilt     \n",
       "288   pitcher   \n",
       "\n",
       "                                                                                      jpg_url  \n",
       "1932  https://pbs.twimg.com/ext_tw_video_thumb/859196962498805762/pu/img/-yBpr4-o4GJZECYE.jpg  \n",
       "1500  https://pbs.twimg.com/media/CuDCSM-XEAAJw1W.jpg                                          \n",
       "288   https://pbs.twimg.com/media/CVBwNjVWwAAlUFQ.jpg                                          "
      ]
     },
     "execution_count": 295,
     "metadata": {},
     "output_type": "execute_result"
    }
   ],
   "source": [
    "df2_predictions.sample(10).query('p1_dog==False')[['p1','jpg_url']]\n"
   ]
  },
  {
   "cell_type": "code",
   "execution_count": 296,
   "metadata": {},
   "outputs": [
    {
     "data": {
      "text/plain": [
       "Yorkshire_terrier              8\n",
       "Norwegian_elkhound             8\n",
       "Doberman                       8\n",
       "miniature_poodle               8\n",
       "standard_poodle                8\n",
       "flat-coated_retriever          8\n",
       "papillon                       8\n",
       "Border_terrier                 7\n",
       "Norfolk_terrier                7\n",
       "Saint_Bernard                  7\n",
       "German_short-haired_pointer    7\n",
       "Brittany_spaniel               7\n",
       "bloodhound                     7\n",
       "basenji                        7\n",
       "Dandie_Dinmont                 6\n",
       "Irish_terrier                  6\n",
       "Irish_setter                   6\n",
       "redbone                        6\n",
       "Bedlington_terrier             5\n",
       "Tibetan_mastiff                5\n",
       "Walker_hound                   5\n",
       "bull_mastiff                   5\n",
       "Lhasa                          5\n",
       "Newfoundland                   5\n",
       "Norwich_terrier                4\n",
       "Mexican_hairless               4\n",
       "keeshond                       4\n",
       "Afghan_hound                   4\n",
       "bluetick                       4\n",
       "Saluki                         4\n",
       "Rhodesian_ridgeback            4\n",
       "miniature_schnauzer            4\n",
       "Gordon_setter                  4\n",
       "Tibetan_terrier                4\n",
       "Weimaraner                     4\n",
       "Brabancon_griffon              3\n",
       "Irish_water_spaniel            3\n",
       "komondor                       3\n",
       "Welsh_springer_spaniel         3\n",
       "giant_schnauzer                3\n",
       "curly-coated_retriever         3\n",
       "Leonberg                       3\n",
       "Greater_Swiss_Mountain_dog     3\n",
       "briard                         3\n",
       "Scottish_deerhound             3\n",
       "Ibizan_hound                   3\n",
       "cairn                          3\n",
       "black-and-tan_coonhound        2\n",
       "Sussex_spaniel                 2\n",
       "wire-haired_fox_terrier        2\n",
       "Australian_terrier             2\n",
       "toy_terrier                    2\n",
       "Appenzeller                    2\n",
       "EntleBucher                    1\n",
       "groenendael                    1\n",
       "silky_terrier                  1\n",
       "Japanese_spaniel               1\n",
       "clumber                        1\n",
       "standard_schnauzer             1\n",
       "Scotch_terrier                 1\n",
       "Name: p1, dtype: int64"
      ]
     },
     "execution_count": 296,
     "metadata": {},
     "output_type": "execute_result"
    }
   ],
   "source": [
    "df2_predictions.query('p1_dog==True')['p1'].value_counts().tail(60)\n",
    "#[df2_predictions.p1.duplicated(keep=False)]"
   ]
  },
  {
   "cell_type": "code",
   "execution_count": 297,
   "metadata": {},
   "outputs": [
    {
     "name": "stdout",
     "output_type": "stream",
     "text": [
      "<class 'pandas.core.frame.DataFrame'>\n",
      "RangeIndex: 2075 entries, 0 to 2074\n",
      "Data columns (total 12 columns):\n",
      " #   Column    Non-Null Count  Dtype  \n",
      "---  ------    --------------  -----  \n",
      " 0   tweet_id  2075 non-null   int64  \n",
      " 1   jpg_url   2075 non-null   object \n",
      " 2   img_num   2075 non-null   int64  \n",
      " 3   p1        2075 non-null   object \n",
      " 4   p1_conf   2075 non-null   float64\n",
      " 5   p1_dog    2075 non-null   bool   \n",
      " 6   p2        2075 non-null   object \n",
      " 7   p2_conf   2075 non-null   float64\n",
      " 8   p2_dog    2075 non-null   bool   \n",
      " 9   p3        2075 non-null   object \n",
      " 10  p3_conf   2075 non-null   float64\n",
      " 11  p3_dog    2075 non-null   bool   \n",
      "dtypes: bool(3), float64(3), int64(2), object(4)\n",
      "memory usage: 152.1+ KB\n"
     ]
    }
   ],
   "source": [
    "df2_predictions.info()"
   ]
  },
  {
   "cell_type": "markdown",
   "metadata": {},
   "source": [
    "#### Observations on df2_predictions\n",
    "1. [Q] non descriptive columns names\n",
    "\n",
    "1. [Q] some values are not dog breeds(carousel) because were note recognised (p1_dog is False)- should be dropped"
   ]
  },
  {
   "cell_type": "code",
   "execution_count": 298,
   "metadata": {},
   "outputs": [
    {
     "data": {
      "text/html": [
       "<div>\n",
       "<style scoped>\n",
       "    .dataframe tbody tr th:only-of-type {\n",
       "        vertical-align: middle;\n",
       "    }\n",
       "\n",
       "    .dataframe tbody tr th {\n",
       "        vertical-align: top;\n",
       "    }\n",
       "\n",
       "    .dataframe thead th {\n",
       "        text-align: right;\n",
       "    }\n",
       "</style>\n",
       "<table border=\"1\" class=\"dataframe\">\n",
       "  <thead>\n",
       "    <tr style=\"text-align: right;\">\n",
       "      <th></th>\n",
       "      <th>created_at</th>\n",
       "      <th>id</th>\n",
       "      <th>id_str</th>\n",
       "      <th>full_text</th>\n",
       "      <th>truncated</th>\n",
       "      <th>display_text_range</th>\n",
       "      <th>entities</th>\n",
       "      <th>extended_entities</th>\n",
       "      <th>source</th>\n",
       "      <th>in_reply_to_status_id</th>\n",
       "      <th>...</th>\n",
       "      <th>favorite_count</th>\n",
       "      <th>favorited</th>\n",
       "      <th>retweeted</th>\n",
       "      <th>possibly_sensitive</th>\n",
       "      <th>possibly_sensitive_appealable</th>\n",
       "      <th>lang</th>\n",
       "      <th>retweeted_status</th>\n",
       "      <th>quoted_status_id</th>\n",
       "      <th>quoted_status_id_str</th>\n",
       "      <th>quoted_status</th>\n",
       "    </tr>\n",
       "  </thead>\n",
       "  <tbody>\n",
       "    <tr>\n",
       "      <th>67</th>\n",
       "      <td>2017-06-26 00:13:58+00:00</td>\n",
       "      <td>879130579576475649</td>\n",
       "      <td>879130579576475648</td>\n",
       "      <td>RT @dog_rates: This is Emmy. She was adopted today. Massive round of pupplause for Emmy and her new family. 14/10 for all involved https://…</td>\n",
       "      <td>False</td>\n",
       "      <td>[0, 140]</td>\n",
       "      <td>{'hashtags': [], 'symbols': [], 'user_mentions': [{'screen_name': 'dog_rates', 'name': 'WeRateDogs™ (author)', 'id': 4196983835, 'id_str': '4196983835', 'indices': [3, 13]}], 'urls': []}</td>\n",
       "      <td>NaN</td>\n",
       "      <td>&lt;a href=\"http://twitter.com/download/iphone\" rel=\"nofollow\"&gt;Twitter for iPhone&lt;/a&gt;</td>\n",
       "      <td>NaN</td>\n",
       "      <td>...</td>\n",
       "      <td>0</td>\n",
       "      <td>False</td>\n",
       "      <td>False</td>\n",
       "      <td>NaN</td>\n",
       "      <td>NaN</td>\n",
       "      <td>en</td>\n",
       "      <td>{'created_at': 'Fri Jun 23 01:10:23 +0000 2017', 'id': 878057613040115712, 'id_str': '878057613040115712', 'full_text': 'This is Emmy. She was adopted today. Massive round of pupplause for Emmy and her new family. 14/10 for all involved https://t.co/cwtWnHMVpe', 'truncated': False, 'display_text_range': [0, 115], 'entities': {'hashtags': [], 'symbols': [], 'user_mentions': [], 'urls': [], 'media': [{'id': 878057599261745152, 'id_str': '878057599261745152', 'indices': [116, 139], 'media_url': 'http://pbs.twimg.com/media/DC98vABUIAA97pz.jpg', 'media_url_https': 'https://pbs.twimg.com/media/DC98vABUIAA97pz.jpg', 'url': 'https://t.co/cwtWnHMVpe', 'display_url': 'pic.twitter.com/cwtWnHMVpe', 'expanded_url': 'https://twitter.com/dog_rates/status/878057613040115712/photo/1', 'type': 'photo', 'sizes': {'small': {'w': 680, 'h': 474, 'resize': 'fit'}, 'medium': {'w': 1200, 'h': 837, 'resize': 'fit'}, 'large': {'w': 1599, 'h': 1115, 'resize': 'fit'}, 'thumb': {'w': 150, 'h': 150, 'resize': 'crop'}}}]}, 'extended_entities': {'media': [{'id': 878057599261745152, 'id_str': '878057599261745152', 'indices': [116, 139], 'media_url': 'http://pbs.twimg.com/media/DC98vABUIAA97pz.jpg', 'media_url_https': 'https://pbs.twimg.com/media/DC98vABUIAA97pz.jpg', 'url': 'https://t.co/cwtWnHMVpe', 'display_url': 'pic.twitter.com/cwtWnHMVpe', 'expanded_url': 'https://twitter.com/dog_rates/status/878057613040115712/photo/1', 'type': 'photo', 'sizes': {'small': {'w': 680, 'h': 474, 'resize': 'fit'}, 'medium': {'w': 1200, 'h': 837, 'resize': 'fit'}, 'large': {'w': 1599, 'h': 1115, 'resize': 'fit'}, 'thumb': {'w': 150, 'h': 150, 'resize': 'crop'}}}, {'id': 878057599287009280, 'id_str': '878057599287009280', 'indices': [116, 139], 'media_url': 'http://pbs.twimg.com/media/DC98vAHVoAAUj8d.jpg', 'media_url_https': 'https://pbs.twimg.com/media/DC98vAHVoAAUj8d.jpg', 'url': 'https://t.co/cwtWnHMVpe', 'display_url': 'pic.twitter.com/cwtWnHMVpe', 'expanded_url': 'https://twitter.com/dog_rates/status/878057613040115712/photo/1', 'type': 'photo', 'sizes': {'large': {'w': 1200, 'h': 1466, 'resize': 'fit'}, 'thumb': {'w': 150, 'h': 150, 'resize': 'crop'}, 'small': {'w': 557, 'h': 680, 'resize': 'fit'}, 'medium': {'w': 982, 'h': 1200, 'resize': 'fit'}}}]}, 'source': '&lt;a href=\"http://twitter.com/download/iphone\" rel=\"nofollow\"&gt;Twitter for iPhone&lt;/a&gt;', 'in_reply_to_status_id': None, 'in_reply_to_status_id_str': None, 'in_reply_to_user_id': None, 'in_reply_to_user_id_str': None, 'in_reply_to_screen_name': None, 'user': {'id': 4196983835, 'id_str': '4196983835', 'name': 'WeRateDogs™ (author)', 'screen_name': 'dog_rates', 'location': 'DM YOUR DOGS, WE WILL RATE', 'description': '#1 Source for Professional Dog Ratings | STORE: @ShopWeRateDogs | IG, FB &amp; SC: WeRateDogs MOBILE APP: @GoodDogsGame | Business: dogratingtwitter@gmail.com', 'url': 'https://t.co/N7sNNHAEXS', 'entities': {'url': {'urls': [{'url': 'https://t.co/N7sNNHAEXS', 'expanded_url': 'http://weratedogs.com', 'display_url': 'weratedogs.com', 'indices': [0, 23]}]}, 'description': {'urls': []}}, 'protected': False, 'followers_count': 3200892, 'friends_count': 104, 'listed_count': 2785, 'created_at': 'Sun Nov 15 21:41:29 +0000 2015', 'favourites_count': 114031, 'utc_offset': None, 'time_zone': None, 'geo_enabled': True, 'verified': True, 'statuses_count': 5288, 'lang': 'en', 'contributors_enabled': False, 'is_translator': False, 'is_translation_enabled': False, 'profile_background_color': '000000', 'profile_background_image_url': 'http://abs.twimg.com/images/themes/theme1/bg.png', 'profile_background_image_url_https': 'https://abs.twimg.com/images/themes/theme1/bg.png', 'profile_background_tile': False, 'profile_image_url': 'http://pbs.twimg.com/profile_images/861415328504569856/R2xOOfwe_normal.jpg', 'profile_image_url_https': 'https://pbs.twimg.com/profile_images/861415328504569856/R2xOOfwe_normal.jpg', 'profile_banner_url': 'https://pbs.twimg.com/profile_banners/4196983835/1501129017', 'profile_link_color': 'F5ABB5', 'profile_sidebar_border_color': '000000', 'profile_sidebar_fill_color': '000000', 'profile_text_color': '000000', 'profile_use_background_image': False, 'has_extended_profile': True, 'default_profile': False, 'default_profile_image': False, 'following': True, 'follow_request_sent': False, 'notifications': False, 'translator_type': 'none'}, 'geo': None, 'coordinates': None, 'place': None, 'contributors': None, 'is_quote_status': False, 'retweet_count': 7181, 'favorite_count': 42876, 'favorited': False, 'retweeted': False, 'possibly_sensitive': False, 'possibly_sensitive_appealable': False, 'lang': 'en'}</td>\n",
       "      <td>NaN</td>\n",
       "      <td>NaN</td>\n",
       "      <td>NaN</td>\n",
       "    </tr>\n",
       "    <tr>\n",
       "      <th>1410</th>\n",
       "      <td>2016-02-14 19:35:46+00:00</td>\n",
       "      <td>698953797952008193</td>\n",
       "      <td>698953797952008192</td>\n",
       "      <td>Meet CeCe. She wanted to take a selfie before her first day as a lumberjack. 11/10 crushing traditional gender roles https://t.co/oW9XMYG3F4</td>\n",
       "      <td>False</td>\n",
       "      <td>[0, 140]</td>\n",
       "      <td>{'hashtags': [], 'symbols': [], 'user_mentions': [], 'urls': [], 'media': [{'id': 698953792398692352, 'id_str': '698953792398692352', 'indices': [117, 140], 'media_url': 'http://pbs.twimg.com/media/CbMuxV5WEAAIBjy.jpg', 'media_url_https': 'https://pbs.twimg.com/media/CbMuxV5WEAAIBjy.jpg', 'url': 'https://t.co/oW9XMYG3F4', 'display_url': 'pic.twitter.com/oW9XMYG3F4', 'expanded_url': 'https://twitter.com/dog_rates/status/698953797952008193/photo/1', 'type': 'photo', 'sizes': {'medium': {'w': 600, 'h': 600, 'resize': 'fit'}, 'thumb': {'w': 150, 'h': 150, 'resize': 'crop'}, 'small': {'w': 340, 'h': 340, 'resize': 'fit'}, 'large': {'w': 732, 'h': 732, 'resize': 'fit'}}}]}</td>\n",
       "      <td>{'media': [{'id': 698953792398692352, 'id_str': '698953792398692352', 'indices': [117, 140], 'media_url': 'http://pbs.twimg.com/media/CbMuxV5WEAAIBjy.jpg', 'media_url_https': 'https://pbs.twimg.com/media/CbMuxV5WEAAIBjy.jpg', 'url': 'https://t.co/oW9XMYG3F4', 'display_url': 'pic.twitter.com/oW9XMYG3F4', 'expanded_url': 'https://twitter.com/dog_rates/status/698953797952008193/photo/1', 'type': 'photo', 'sizes': {'medium': {'w': 600, 'h': 600, 'resize': 'fit'}, 'thumb': {'w': 150, 'h': 150, 'resize': 'crop'}, 'small': {'w': 340, 'h': 340, 'resize': 'fit'}, 'large': {'w': 732, 'h': 732, 'resize': 'fit'}}}]}</td>\n",
       "      <td>&lt;a href=\"http://twitter.com/download/iphone\" rel=\"nofollow\"&gt;Twitter for iPhone&lt;/a&gt;</td>\n",
       "      <td>NaN</td>\n",
       "      <td>...</td>\n",
       "      <td>2975</td>\n",
       "      <td>False</td>\n",
       "      <td>False</td>\n",
       "      <td>0.0</td>\n",
       "      <td>0.0</td>\n",
       "      <td>en</td>\n",
       "      <td>NaN</td>\n",
       "      <td>NaN</td>\n",
       "      <td>NaN</td>\n",
       "      <td>NaN</td>\n",
       "    </tr>\n",
       "  </tbody>\n",
       "</table>\n",
       "<p>2 rows × 31 columns</p>\n",
       "</div>"
      ],
      "text/plain": [
       "                    created_at                  id              id_str  \\\n",
       "67   2017-06-26 00:13:58+00:00  879130579576475649  879130579576475648   \n",
       "1410 2016-02-14 19:35:46+00:00  698953797952008193  698953797952008192   \n",
       "\n",
       "                                                                                                                                         full_text  \\\n",
       "67    RT @dog_rates: This is Emmy. She was adopted today. Massive round of pupplause for Emmy and her new family. 14/10 for all involved https://…   \n",
       "1410  Meet CeCe. She wanted to take a selfie before her first day as a lumberjack. 11/10 crushing traditional gender roles https://t.co/oW9XMYG3F4   \n",
       "\n",
       "      truncated display_text_range  \\\n",
       "67    False      [0, 140]            \n",
       "1410  False      [0, 140]            \n",
       "\n",
       "                                                                                                                                                                                                                                                                                                                                                                                                                                                                                                                                                                                                                                                                                                 entities  \\\n",
       "67    {'hashtags': [], 'symbols': [], 'user_mentions': [{'screen_name': 'dog_rates', 'name': 'WeRateDogs™ (author)', 'id': 4196983835, 'id_str': '4196983835', 'indices': [3, 13]}], 'urls': []}                                                                                                                                                                                                                                                                                                                                                                                                                                                                                                            \n",
       "1410  {'hashtags': [], 'symbols': [], 'user_mentions': [], 'urls': [], 'media': [{'id': 698953792398692352, 'id_str': '698953792398692352', 'indices': [117, 140], 'media_url': 'http://pbs.twimg.com/media/CbMuxV5WEAAIBjy.jpg', 'media_url_https': 'https://pbs.twimg.com/media/CbMuxV5WEAAIBjy.jpg', 'url': 'https://t.co/oW9XMYG3F4', 'display_url': 'pic.twitter.com/oW9XMYG3F4', 'expanded_url': 'https://twitter.com/dog_rates/status/698953797952008193/photo/1', 'type': 'photo', 'sizes': {'medium': {'w': 600, 'h': 600, 'resize': 'fit'}, 'thumb': {'w': 150, 'h': 150, 'resize': 'crop'}, 'small': {'w': 340, 'h': 340, 'resize': 'fit'}, 'large': {'w': 732, 'h': 732, 'resize': 'fit'}}}]}   \n",
       "\n",
       "                                                                                                                                                                                                                                                                                                                                                                                                                                                                                                                                                                                                                        extended_entities  \\\n",
       "67    NaN                                                                                                                                                                                                                                                                                                                                                                                                                                                                                                                                                                                                                                   \n",
       "1410  {'media': [{'id': 698953792398692352, 'id_str': '698953792398692352', 'indices': [117, 140], 'media_url': 'http://pbs.twimg.com/media/CbMuxV5WEAAIBjy.jpg', 'media_url_https': 'https://pbs.twimg.com/media/CbMuxV5WEAAIBjy.jpg', 'url': 'https://t.co/oW9XMYG3F4', 'display_url': 'pic.twitter.com/oW9XMYG3F4', 'expanded_url': 'https://twitter.com/dog_rates/status/698953797952008193/photo/1', 'type': 'photo', 'sizes': {'medium': {'w': 600, 'h': 600, 'resize': 'fit'}, 'thumb': {'w': 150, 'h': 150, 'resize': 'crop'}, 'small': {'w': 340, 'h': 340, 'resize': 'fit'}, 'large': {'w': 732, 'h': 732, 'resize': 'fit'}}}]}   \n",
       "\n",
       "                                                                                  source  \\\n",
       "67    <a href=\"http://twitter.com/download/iphone\" rel=\"nofollow\">Twitter for iPhone</a>   \n",
       "1410  <a href=\"http://twitter.com/download/iphone\" rel=\"nofollow\">Twitter for iPhone</a>   \n",
       "\n",
       "      in_reply_to_status_id  ...  favorite_count  favorited  retweeted  \\\n",
       "67   NaN                     ...  0               False      False       \n",
       "1410 NaN                     ...  2975            False      False       \n",
       "\n",
       "     possibly_sensitive possibly_sensitive_appealable  lang  \\\n",
       "67   NaN                NaN                            en     \n",
       "1410  0.0                0.0                           en     \n",
       "\n",
       "                                                                                                                                                                                                                                                                                                                                                                                                                                                                                                                                                                                                                                                                                                                                                                                                                                                                                                                                                                                                                                                                                                                                                                                                                                                                                                                                                                                                                                                                                                                                                                                                                                                                                                                                                                                                                                                                                                                                                                                                                                                                                                                                                                                                                                                                                                                                                                                                                                                                                                                                                                                                                                                                                                                                                                                                                                                                                                                                                                                                                                                                                                                                                                                                                                                                                                                                                                                                                                                                                                                                                                                                                                                                                                                                                                                                                                                                                                                                                                                                                                                                                                                                                                                                                                                                                                                                                                                                                                                                                                                                                                                                                                                                                                                                                                                    retweeted_status  \\\n",
       "67    {'created_at': 'Fri Jun 23 01:10:23 +0000 2017', 'id': 878057613040115712, 'id_str': '878057613040115712', 'full_text': 'This is Emmy. She was adopted today. Massive round of pupplause for Emmy and her new family. 14/10 for all involved https://t.co/cwtWnHMVpe', 'truncated': False, 'display_text_range': [0, 115], 'entities': {'hashtags': [], 'symbols': [], 'user_mentions': [], 'urls': [], 'media': [{'id': 878057599261745152, 'id_str': '878057599261745152', 'indices': [116, 139], 'media_url': 'http://pbs.twimg.com/media/DC98vABUIAA97pz.jpg', 'media_url_https': 'https://pbs.twimg.com/media/DC98vABUIAA97pz.jpg', 'url': 'https://t.co/cwtWnHMVpe', 'display_url': 'pic.twitter.com/cwtWnHMVpe', 'expanded_url': 'https://twitter.com/dog_rates/status/878057613040115712/photo/1', 'type': 'photo', 'sizes': {'small': {'w': 680, 'h': 474, 'resize': 'fit'}, 'medium': {'w': 1200, 'h': 837, 'resize': 'fit'}, 'large': {'w': 1599, 'h': 1115, 'resize': 'fit'}, 'thumb': {'w': 150, 'h': 150, 'resize': 'crop'}}}]}, 'extended_entities': {'media': [{'id': 878057599261745152, 'id_str': '878057599261745152', 'indices': [116, 139], 'media_url': 'http://pbs.twimg.com/media/DC98vABUIAA97pz.jpg', 'media_url_https': 'https://pbs.twimg.com/media/DC98vABUIAA97pz.jpg', 'url': 'https://t.co/cwtWnHMVpe', 'display_url': 'pic.twitter.com/cwtWnHMVpe', 'expanded_url': 'https://twitter.com/dog_rates/status/878057613040115712/photo/1', 'type': 'photo', 'sizes': {'small': {'w': 680, 'h': 474, 'resize': 'fit'}, 'medium': {'w': 1200, 'h': 837, 'resize': 'fit'}, 'large': {'w': 1599, 'h': 1115, 'resize': 'fit'}, 'thumb': {'w': 150, 'h': 150, 'resize': 'crop'}}}, {'id': 878057599287009280, 'id_str': '878057599287009280', 'indices': [116, 139], 'media_url': 'http://pbs.twimg.com/media/DC98vAHVoAAUj8d.jpg', 'media_url_https': 'https://pbs.twimg.com/media/DC98vAHVoAAUj8d.jpg', 'url': 'https://t.co/cwtWnHMVpe', 'display_url': 'pic.twitter.com/cwtWnHMVpe', 'expanded_url': 'https://twitter.com/dog_rates/status/878057613040115712/photo/1', 'type': 'photo', 'sizes': {'large': {'w': 1200, 'h': 1466, 'resize': 'fit'}, 'thumb': {'w': 150, 'h': 150, 'resize': 'crop'}, 'small': {'w': 557, 'h': 680, 'resize': 'fit'}, 'medium': {'w': 982, 'h': 1200, 'resize': 'fit'}}}]}, 'source': '<a href=\"http://twitter.com/download/iphone\" rel=\"nofollow\">Twitter for iPhone</a>', 'in_reply_to_status_id': None, 'in_reply_to_status_id_str': None, 'in_reply_to_user_id': None, 'in_reply_to_user_id_str': None, 'in_reply_to_screen_name': None, 'user': {'id': 4196983835, 'id_str': '4196983835', 'name': 'WeRateDogs™ (author)', 'screen_name': 'dog_rates', 'location': 'DM YOUR DOGS, WE WILL RATE', 'description': '#1 Source for Professional Dog Ratings | STORE: @ShopWeRateDogs | IG, FB & SC: WeRateDogs MOBILE APP: @GoodDogsGame | Business: dogratingtwitter@gmail.com', 'url': 'https://t.co/N7sNNHAEXS', 'entities': {'url': {'urls': [{'url': 'https://t.co/N7sNNHAEXS', 'expanded_url': 'http://weratedogs.com', 'display_url': 'weratedogs.com', 'indices': [0, 23]}]}, 'description': {'urls': []}}, 'protected': False, 'followers_count': 3200892, 'friends_count': 104, 'listed_count': 2785, 'created_at': 'Sun Nov 15 21:41:29 +0000 2015', 'favourites_count': 114031, 'utc_offset': None, 'time_zone': None, 'geo_enabled': True, 'verified': True, 'statuses_count': 5288, 'lang': 'en', 'contributors_enabled': False, 'is_translator': False, 'is_translation_enabled': False, 'profile_background_color': '000000', 'profile_background_image_url': 'http://abs.twimg.com/images/themes/theme1/bg.png', 'profile_background_image_url_https': 'https://abs.twimg.com/images/themes/theme1/bg.png', 'profile_background_tile': False, 'profile_image_url': 'http://pbs.twimg.com/profile_images/861415328504569856/R2xOOfwe_normal.jpg', 'profile_image_url_https': 'https://pbs.twimg.com/profile_images/861415328504569856/R2xOOfwe_normal.jpg', 'profile_banner_url': 'https://pbs.twimg.com/profile_banners/4196983835/1501129017', 'profile_link_color': 'F5ABB5', 'profile_sidebar_border_color': '000000', 'profile_sidebar_fill_color': '000000', 'profile_text_color': '000000', 'profile_use_background_image': False, 'has_extended_profile': True, 'default_profile': False, 'default_profile_image': False, 'following': True, 'follow_request_sent': False, 'notifications': False, 'translator_type': 'none'}, 'geo': None, 'coordinates': None, 'place': None, 'contributors': None, 'is_quote_status': False, 'retweet_count': 7181, 'favorite_count': 42876, 'favorited': False, 'retweeted': False, 'possibly_sensitive': False, 'possibly_sensitive_appealable': False, 'lang': 'en'}   \n",
       "1410  NaN                                                                                                                                                                                                                                                                                                                                                                                                                                                                                                                                                                                                                                                                                                                                                                                                                                                                                                                                                                                                                                                                                                                                                                                                                                                                                                                                                                                                                                                                                                                                                                                                                                                                                                                                                                                                                                                                                                                                                                                                                                                                                                                                                                                                                                                                                                                                                                                                                                                                                                                                                                                                                                                                                                                                                                                                                                                                                                                                                                                                                                                                                                                                                                                                                                                                                                                                                                                                                                                                                                                                                                                                                                                                                                                                                                                                                                                                                                                                                                                                                                                                                                                                                                                                                                                                                                                                                                                                                                                                                                                                                                                                                                                                                                                                                                                              \n",
       "\n",
       "     quoted_status_id  quoted_status_id_str  quoted_status  \n",
       "67   NaN              NaN                    NaN            \n",
       "1410 NaN              NaN                    NaN            \n",
       "\n",
       "[2 rows x 31 columns]"
      ]
     },
     "execution_count": 298,
     "metadata": {},
     "output_type": "execute_result"
    }
   ],
   "source": [
    "df3_tweet_API.sample(2)"
   ]
  },
  {
   "cell_type": "code",
   "execution_count": 299,
   "metadata": {},
   "outputs": [
    {
     "name": "stdout",
     "output_type": "stream",
     "text": [
      "<class 'pandas.core.frame.DataFrame'>\n",
      "RangeIndex: 2354 entries, 0 to 2353\n",
      "Data columns (total 31 columns):\n",
      " #   Column                         Non-Null Count  Dtype              \n",
      "---  ------                         --------------  -----              \n",
      " 0   created_at                     2354 non-null   datetime64[ns, UTC]\n",
      " 1   id                             2354 non-null   int64              \n",
      " 2   id_str                         2354 non-null   int64              \n",
      " 3   full_text                      2354 non-null   object             \n",
      " 4   truncated                      2354 non-null   bool               \n",
      " 5   display_text_range             2354 non-null   object             \n",
      " 6   entities                       2354 non-null   object             \n",
      " 7   extended_entities              2073 non-null   object             \n",
      " 8   source                         2354 non-null   object             \n",
      " 9   in_reply_to_status_id          78 non-null     float64            \n",
      " 10  in_reply_to_status_id_str      78 non-null     float64            \n",
      " 11  in_reply_to_user_id            78 non-null     float64            \n",
      " 12  in_reply_to_user_id_str        78 non-null     float64            \n",
      " 13  in_reply_to_screen_name        78 non-null     object             \n",
      " 14  user                           2354 non-null   object             \n",
      " 15  geo                            0 non-null      float64            \n",
      " 16  coordinates                    0 non-null      float64            \n",
      " 17  place                          1 non-null      object             \n",
      " 18  contributors                   0 non-null      float64            \n",
      " 19  is_quote_status                2354 non-null   bool               \n",
      " 20  retweet_count                  2354 non-null   int64              \n",
      " 21  favorite_count                 2354 non-null   int64              \n",
      " 22  favorited                      2354 non-null   bool               \n",
      " 23  retweeted                      2354 non-null   bool               \n",
      " 24  possibly_sensitive             2211 non-null   float64            \n",
      " 25  possibly_sensitive_appealable  2211 non-null   float64            \n",
      " 26  lang                           2354 non-null   object             \n",
      " 27  retweeted_status               179 non-null    object             \n",
      " 28  quoted_status_id               29 non-null     float64            \n",
      " 29  quoted_status_id_str           29 non-null     float64            \n",
      " 30  quoted_status                  28 non-null     object             \n",
      "dtypes: bool(4), datetime64[ns, UTC](1), float64(11), int64(4), object(11)\n",
      "memory usage: 505.9+ KB\n"
     ]
    }
   ],
   "source": [
    "df3_tweet_API.info()"
   ]
  },
  {
   "cell_type": "markdown",
   "metadata": {},
   "source": [
    "#### Observations on df3_tweet_API\n",
    "1. [T] Name of id to tweet_id to be inline with others\n",
    "- [Q] Many columns not necessary that can be dropped"
   ]
  },
  {
   "cell_type": "markdown",
   "metadata": {},
   "source": [
    "## Assessment summary:\n",
    "\n",
    "Below the identified issues founded during the assessment of the data:\n",
    "\n",
    "### Quality\n",
    "\n",
    "A. **`tweets_archive`** table: \n",
    "    1. **rating_denominator** is 10 most of the time but there are few times with other values: 24/7s, 9/11s,1/2s,7/11s and then when there are multiple dogs they sum up the count \n",
    "    2. **rating_numerator** is usually between 1-15 but some values are out of scale\n",
    "    3. **Source** values are pieces of html code and are essentially 4 types (Iphone,Vine,tweet_web and TweetDeck)\n",
    "    4. 181 retweets (**retweeted_status_id, retweeted_status_user_id, retweeted_status_timestamp**)\n",
    "    5. 78 replies (**in_reply_to_status_id, in_reply_to_user_id**)\n",
    "    6. 2297 tweets with expanded_urls (links to images) 59 NaNs\n",
    "    7. 279 tweets that doesn´t contain a photo, some others contains (82) a Video or a vine (103) \n",
    "    8. The timestamps fields are strings not timedate (object)\n",
    "    9. In the name column there are 745 where the name of the dog was not captured, also 55 captured \"a\", and others like \"the\", \"an\" as names, fortunatelly names are put with capital letter so we can try to clean it later (109 of them to fix).\n",
    "    \n",
    "B.  **`Predictions`** table: \n",
    "\n",
    "    11. Some values are not dog breeds(carousel) because were note recognised (p1_dog is False)- should be dropped\n",
    "    12. Non descriptive column names\n",
    "\n",
    "### Tidiness\n",
    "\n",
    "A. **`tweets_archive`** table: \n",
    "\n",
    "    1. Four variables in one columns in `tweets` table (Doggo, floofer, pupper and puppo in one single column)\n",
    "    2. Retweet columns are not the focus of the case and those can be dropped (retweeted_status_id, retweeted_status_user_id, retweeted_status_timestamp)\n",
    "\n",
    "    \n",
    "B. **`tweet_API`** table\n",
    "\n",
    "    4. Name of id to tweet_id to be inline with others\n",
    "    5. Many columns not necessary that can be dropped\n",
    "    6. Many columns are variables already captured in the other dataframes\n",
    "    \n",
    "____\n",
    "\n",
    "    \n",
    "Out of the above the following issues are to be corrected:\n",
    "\n",
    "### The 8 Quality issues to be addressed:\n",
    "\n",
    "   1. On `tweets_archive` drop the **retweets** entries.\n",
    "   - On `tweets_archive` clean **Source** values on just 4 types (Iphone,Vine,tweet_web and TweetDeck) \n",
    "   - On `tweets_archive` clean to leave only photos on the **expanded_urls**\n",
    "   - On `tweets_archive` Fix formats of **timestamps** fields\n",
    "   - On `tweets_archive` Clean **Dog names** colums to avoid conjuntion and articles instead of the names\n",
    "   - On `tweets_archive` **Fill Nan** on the none to be considered as missing values.\n",
    "   - On `Predictions` Clean the **breeds not identified** that comes with objects instead of dog stage\n",
    "   - On `tweets_archive` cleaning values on **rating Numerator and denominator** for one dog and a group of them.    \n",
    "   - On `tweets_archive` cleaning values of **ratings** when it has been wrongly parsed due to other x/y text found on the tweet.\n",
    "   - On `Predictions` fix names of columns to be descriptive.\n",
    "   - On `tweet_API` drop unnecessary columns.\n",
    "   \n",
    "### The 2 of Tidiness to be addressed:\n",
    "   1. On `tweets_archive` Fix There are 4 columns for dog stages (doggo, floofer, pupper, puppo)\n",
    "   2. Information about one type of observational unit (tweets) is spread across three different datasets. Therefore, these three datasets should be merged as they are part of the same observational unit.\n",
    "   \n"
   ]
  },
  {
   "cell_type": "markdown",
   "metadata": {},
   "source": [
    "# Data Cleaning\n",
    "\n",
    "__Cleaning Data for this Project__\n",
    "\n",
    "- Clean the designated issues documented while assessing. The result should be a high quality and tidy master pandas DataFrame (or DataFrames, if appropriate). Again, the issues that satisfy the Project Motivation must be cleaned."
   ]
  },
  {
   "cell_type": "code",
   "execution_count": 371,
   "metadata": {},
   "outputs": [],
   "source": [
    "#Using a copy of the original data to avoid losing info\n",
    "df1_clean = df1_tweets_archive.copy()\n",
    "df2_clean = df2_predictions.copy()\n",
    "df3_data_clean = df3_tweet_API.copy()"
   ]
  },
  {
   "cell_type": "markdown",
   "metadata": {},
   "source": [
    "### #1 drop retweets\n"
   ]
  },
  {
   "cell_type": "markdown",
   "metadata": {},
   "source": [
    "#### Define\n",
    "There are 181 retweets on the df that we don´t need and we shall find by filtering those rows not empty on hte retweeted_status_id"
   ]
  },
  {
   "cell_type": "markdown",
   "metadata": {},
   "source": [
    "#### Code"
   ]
  },
  {
   "cell_type": "code",
   "execution_count": 372,
   "metadata": {},
   "outputs": [],
   "source": [
    "#retweets_mask=df1_clean.retweeted_status_id.notnull()\n",
    "#df1_clean[retweets_mask].shape[0] #181\n",
    "Nort_mask = df1_clean.retweeted_status_id.isna()\n",
    "df1_clean = df1_clean[Nort_mask]"
   ]
  },
  {
   "cell_type": "markdown",
   "metadata": {},
   "source": [
    "#### Test"
   ]
  },
  {
   "cell_type": "code",
   "execution_count": 373,
   "metadata": {},
   "outputs": [
    {
     "name": "stdout",
     "output_type": "stream",
     "text": [
      "<class 'pandas.core.frame.DataFrame'>\n",
      "Int64Index: 2175 entries, 0 to 2355\n",
      "Data columns (total 17 columns):\n",
      " #   Column                      Non-Null Count  Dtype  \n",
      "---  ------                      --------------  -----  \n",
      " 0   tweet_id                    2175 non-null   int64  \n",
      " 1   in_reply_to_status_id       78 non-null     float64\n",
      " 2   in_reply_to_user_id         78 non-null     float64\n",
      " 3   timestamp                   2175 non-null   object \n",
      " 4   source                      2175 non-null   object \n",
      " 5   text                        2175 non-null   object \n",
      " 6   retweeted_status_id         0 non-null      float64\n",
      " 7   retweeted_status_user_id    0 non-null      float64\n",
      " 8   retweeted_status_timestamp  0 non-null      object \n",
      " 9   expanded_urls               2117 non-null   object \n",
      " 10  rating_numerator            2175 non-null   int64  \n",
      " 11  rating_denominator          2175 non-null   int64  \n",
      " 12  name                        2175 non-null   object \n",
      " 13  doggo                       2175 non-null   object \n",
      " 14  floofer                     2175 non-null   object \n",
      " 15  pupper                      2175 non-null   object \n",
      " 16  puppo                       2175 non-null   object \n",
      "dtypes: float64(4), int64(3), object(10)\n",
      "memory usage: 305.9+ KB\n"
     ]
    }
   ],
   "source": [
    "df1_tweets_archive.shape[0]-df1_clean.shape[0] #181 . Dropped rows\n",
    "sum(df1_clean.retweeted_status_id.notnull())#0 no retweets founded\n",
    "df1_clean.info()"
   ]
  },
  {
   "cell_type": "code",
   "execution_count": 374,
   "metadata": {},
   "outputs": [
    {
     "data": {
      "text/plain": [
       "0       False\n",
       "1       False\n",
       "2       False\n",
       "3       False\n",
       "4       False\n",
       "        ...  \n",
       "2351    False\n",
       "2352    False\n",
       "2353    False\n",
       "2354    False\n",
       "2355    False\n",
       "Name: retweeted_status_id, Length: 2175, dtype: bool"
      ]
     },
     "execution_count": 374,
     "metadata": {},
     "output_type": "execute_result"
    }
   ],
   "source": [
    "df1_clean.retweeted_status_id.notnull()"
   ]
  },
  {
   "cell_type": "markdown",
   "metadata": {},
   "source": [
    "### #2 On `tweets_archive` clean **Source** values on just 4 types (Iphone,Vine,tweet_web and TweetDeck) "
   ]
  },
  {
   "cell_type": "markdown",
   "metadata": {},
   "source": [
    "#### Define\n",
    "The tweets_archive df contains in the column Source essentially 4 values hiden under html tags <a>  </a>  that we´ll be cleaned by extracting the info in between"
   ]
  },
  {
   "cell_type": "markdown",
   "metadata": {},
   "source": [
    "#### code"
   ]
  },
  {
   "cell_type": "code",
   "execution_count": 375,
   "metadata": {},
   "outputs": [],
   "source": [
    "df1_clean.source = df1_clean.source.str.extract('^<a.+>(.+)</a>$')\n"
   ]
  },
  {
   "cell_type": "markdown",
   "metadata": {},
   "source": [
    "#### Test"
   ]
  },
  {
   "cell_type": "code",
   "execution_count": 376,
   "metadata": {},
   "outputs": [
    {
     "data": {
      "text/plain": [
       "Twitter for iPhone     2042\n",
       "Vine - Make a Scene    91  \n",
       "Twitter Web Client     31  \n",
       "TweetDeck              11  \n",
       "Name: source, dtype: int64"
      ]
     },
     "execution_count": 376,
     "metadata": {},
     "output_type": "execute_result"
    }
   ],
   "source": [
    "df1_clean.source.value_counts()# we can see the values have been rightly replaced"
   ]
  },
  {
   "cell_type": "markdown",
   "metadata": {},
   "source": [
    "### #3 On `tweets_archive` clean to leave only photos on the **expanded_urls**"
   ]
  },
  {
   "cell_type": "markdown",
   "metadata": {},
   "source": [
    "#### Define\n",
    "drop all not photo rows to keep just the photos and discard vines and videos. We´ll"
   ]
  },
  {
   "cell_type": "markdown",
   "metadata": {},
   "source": [
    "#### code"
   ]
  },
  {
   "cell_type": "code",
   "execution_count": 377,
   "metadata": {},
   "outputs": [],
   "source": [
    "df1_clean.expanded_urls\n",
    "#sum(df1_clean['expanded_urls'].str.contains(\"photo\", na=False ))#1920 urls with photo, rest we can drop\n",
    "Novideo_mask = df1_clean['expanded_urls'].str.contains(\"photo\", na=False )\n",
    "df1_clean = df1_clean[Novideo_mask]"
   ]
  },
  {
   "cell_type": "markdown",
   "metadata": {},
   "source": [
    "#### Test"
   ]
  },
  {
   "cell_type": "code",
   "execution_count": 378,
   "metadata": {},
   "outputs": [
    {
     "data": {
      "text/plain": [
       "1920"
      ]
     },
     "execution_count": 378,
     "metadata": {},
     "output_type": "execute_result"
    }
   ],
   "source": [
    "#df1_clean.shape # it has 1920 as expected\n",
    "sum(df1_clean['expanded_urls'].str.contains(\"photo\", na=False ))#all with Photo urls"
   ]
  },
  {
   "cell_type": "markdown",
   "metadata": {},
   "source": [
    "### #4 On `tweets_archive` Fix formats of **timestamps** fields"
   ]
  },
  {
   "cell_type": "markdown",
   "metadata": {},
   "source": [
    "#### Define\n",
    "The timestamp field on the df is not a valid format to profit from time related operations, it is currently a string. we´ll convert it into datetime "
   ]
  },
  {
   "cell_type": "markdown",
   "metadata": {},
   "source": [
    "#### Code"
   ]
  },
  {
   "cell_type": "code",
   "execution_count": 379,
   "metadata": {},
   "outputs": [],
   "source": [
    "df1_clean['timestamp']= pd.to_datetime(df1_clean.timestamp)"
   ]
  },
  {
   "cell_type": "markdown",
   "metadata": {},
   "source": [
    "#### Test"
   ]
  },
  {
   "cell_type": "code",
   "execution_count": 380,
   "metadata": {},
   "outputs": [
    {
     "data": {
      "text/plain": [
       "datetime64[ns, UTC]"
      ]
     },
     "execution_count": 380,
     "metadata": {},
     "output_type": "execute_result"
    }
   ],
   "source": [
    "df1_clean['timestamp'].dtype # it is rightly converted into datetime type"
   ]
  },
  {
   "cell_type": "markdown",
   "metadata": {},
   "source": [
    "### #5 On `tweets_archive` Clean **Dog names** colums to avoid conjuntion and articles instead of the names\n",
    "### #6 On `tweets_archive` **Fill Nan** on the none to be considered as missing values."
   ]
  },
  {
   "cell_type": "markdown",
   "metadata": {},
   "source": [
    "#### Define\n",
    "some names of the dogs have not been correctly captured and there is data we need to identify and purge. As per the assessment, most of the dogs names come with capital letter, while the \"the\" \"an\" and similar patterns come in low cap. We´ll use that to find the wrong values and then drop them, together with those named \"none\" that we will replace by Nan"
   ]
  },
  {
   "cell_type": "markdown",
   "metadata": {},
   "source": [
    "#### Code"
   ]
  },
  {
   "cell_type": "code",
   "execution_count": 381,
   "metadata": {},
   "outputs": [],
   "source": [
    "#Regex explanation:\n",
    "#(?:(?<=^)|(?<=[^.]))   assert that what precedes is either the start of the string,\n",
    "#                       or a non full stop character\n",
    "#\\s+                    then match (but do not capture) one or more spaces\n",
    "#([A-Z][a-z]+)          then match AND capture a word starting with a capital letter"
   ]
  },
  {
   "cell_type": "code",
   "execution_count": 382,
   "metadata": {},
   "outputs": [],
   "source": [
    "not_name_mask =  df1_clean.name.str.contains('^[a-z]', regex = True)\n",
    "#missing_names = df1_clean[not_name_mask].text.str.extract('(?:(?<=^)|(?<=[^.]))\\s+([A-Z][a-z]+)')\n",
    "#missing_names.values\n",
    "#df1_clean[not_name_mask].name = missing_names.values\n"
   ]
  },
  {
   "cell_type": "code",
   "execution_count": 383,
   "metadata": {},
   "outputs": [
    {
     "data": {
      "text/plain": [
       "92"
      ]
     },
     "execution_count": 383,
     "metadata": {},
     "output_type": "execute_result"
    }
   ],
   "source": [
    "sum(not_name_mask)"
   ]
  },
  {
   "cell_type": "code",
   "execution_count": 384,
   "metadata": {},
   "outputs": [
    {
     "name": "stderr",
     "output_type": "stream",
     "text": [
      "/anaconda3/lib/python3.6/site-packages/ipykernel/__main__.py:1: SettingWithCopyWarning: \n",
      "A value is trying to be set on a copy of a slice from a DataFrame\n",
      "\n",
      "See the caveats in the documentation: https://pandas.pydata.org/pandas-docs/stable/user_guide/indexing.html#returning-a-view-versus-a-copy\n",
      "  if __name__ == '__main__':\n"
     ]
    }
   ],
   "source": [
    "df1_clean.name[not_name_mask]= np.nan"
   ]
  },
  {
   "cell_type": "code",
   "execution_count": 385,
   "metadata": {},
   "outputs": [],
   "source": [
    "None_names_mask = df1_clean.name.str.contains(\"None\", na=False )"
   ]
  },
  {
   "cell_type": "code",
   "execution_count": 386,
   "metadata": {},
   "outputs": [
    {
     "name": "stderr",
     "output_type": "stream",
     "text": [
      "/anaconda3/lib/python3.6/site-packages/ipykernel/__main__.py:1: SettingWithCopyWarning: \n",
      "A value is trying to be set on a copy of a slice from a DataFrame\n",
      "\n",
      "See the caveats in the documentation: https://pandas.pydata.org/pandas-docs/stable/user_guide/indexing.html#returning-a-view-versus-a-copy\n",
      "  if __name__ == '__main__':\n"
     ]
    }
   ],
   "source": [
    "df1_clean.name[None_names_mask]= np.nan"
   ]
  },
  {
   "cell_type": "markdown",
   "metadata": {},
   "source": [
    "#### Test"
   ]
  },
  {
   "cell_type": "code",
   "execution_count": 387,
   "metadata": {},
   "outputs": [
    {
     "data": {
      "text/plain": [
       "602"
      ]
     },
     "execution_count": 387,
     "metadata": {},
     "output_type": "execute_result"
    }
   ],
   "source": [
    "sum(df1_clean.name.isna())"
   ]
  },
  {
   "cell_type": "code",
   "execution_count": 388,
   "metadata": {},
   "outputs": [
    {
     "data": {
      "text/plain": [
       "Charlie      11\n",
       "Cooper       10\n",
       "Lucy         10\n",
       "Tucker       9 \n",
       "Oliver       9 \n",
       "            .. \n",
       "Brat         1 \n",
       "Jett         1 \n",
       "Birf         1 \n",
       "Biden        1 \n",
       "Alexander    1 \n",
       "Name: name, Length: 897, dtype: int64"
      ]
     },
     "execution_count": 388,
     "metadata": {},
     "output_type": "execute_result"
    }
   ],
   "source": [
    "df1_clean.name.value_counts()"
   ]
  },
  {
   "cell_type": "code",
   "execution_count": 389,
   "metadata": {},
   "outputs": [
    {
     "name": "stdout",
     "output_type": "stream",
     "text": [
      "<class 'pandas.core.frame.DataFrame'>\n",
      "Int64Index: 1920 entries, 0 to 2355\n",
      "Data columns (total 17 columns):\n",
      " #   Column                      Non-Null Count  Dtype              \n",
      "---  ------                      --------------  -----              \n",
      " 0   tweet_id                    1920 non-null   int64              \n",
      " 1   in_reply_to_status_id       21 non-null     float64            \n",
      " 2   in_reply_to_user_id         21 non-null     float64            \n",
      " 3   timestamp                   1920 non-null   datetime64[ns, UTC]\n",
      " 4   source                      1920 non-null   object             \n",
      " 5   text                        1920 non-null   object             \n",
      " 6   retweeted_status_id         0 non-null      float64            \n",
      " 7   retweeted_status_user_id    0 non-null      float64            \n",
      " 8   retweeted_status_timestamp  0 non-null      object             \n",
      " 9   expanded_urls               1920 non-null   object             \n",
      " 10  rating_numerator            1920 non-null   int64              \n",
      " 11  rating_denominator          1920 non-null   int64              \n",
      " 12  name                        1318 non-null   object             \n",
      " 13  doggo                       1920 non-null   object             \n",
      " 14  floofer                     1920 non-null   object             \n",
      " 15  pupper                      1920 non-null   object             \n",
      " 16  puppo                       1920 non-null   object             \n",
      "dtypes: datetime64[ns, UTC](1), float64(4), int64(3), object(9)\n",
      "memory usage: 270.0+ KB\n"
     ]
    }
   ],
   "source": [
    "df1_clean.info()"
   ]
  },
  {
   "cell_type": "markdown",
   "metadata": {},
   "source": [
    "### #7 On `Predictions` Clean the **breeds not identified** that comes with objects instead of dog stage"
   ]
  },
  {
   "cell_type": "markdown",
   "metadata": {},
   "source": [
    "#### Define\n",
    "On the predictions table, there are many cases where the dog stage has not been reconize positively and it gives objects as result rather than dog breeds. We´ll discard those"
   ]
  },
  {
   "cell_type": "markdown",
   "metadata": {},
   "source": [
    "#### code"
   ]
  },
  {
   "cell_type": "code",
   "execution_count": 390,
   "metadata": {},
   "outputs": [],
   "source": [
    "#df2_clean.query('p1_dog==False').shape[0] #543\n",
    "#df2_clean.shape[0] #2075\n",
    "df2_clean=df2_clean.query('p1_dog!=False')\n"
   ]
  },
  {
   "cell_type": "markdown",
   "metadata": {},
   "source": [
    "#### Test"
   ]
  },
  {
   "cell_type": "code",
   "execution_count": 391,
   "metadata": {},
   "outputs": [
    {
     "data": {
      "text/plain": [
       "0"
      ]
     },
     "execution_count": 391,
     "metadata": {},
     "output_type": "execute_result"
    }
   ],
   "source": [
    "df2_clean.shape[0] #1532\n",
    "df2_clean.query('p1_dog==False').shape[0] #none remains"
   ]
  },
  {
   "cell_type": "markdown",
   "metadata": {},
   "source": [
    "### #8 On `tweets_archive` cleaning values on **rating Numerator and denominator** for one dog and a group of them.    \n",
    "### #9 On `tweets_archive` cleaning values of **ratings** when it has been wrongly parsed due to other x/y text found on"
   ]
  },
  {
   "cell_type": "markdown",
   "metadata": {},
   "source": [
    "#### Define\n",
    "in the tweets_archive data frame the values in format x/y is not homogeneous. We´ve found that the content sometimes refers to one single dog and some other times to several, aggregating the rate.\n",
    "Nevertheless, considering the numbers we´ll be dropping the outliers leaving only rates of less than 15 out 10."
   ]
  },
  {
   "cell_type": "markdown",
   "metadata": {},
   "source": [
    "#### Code"
   ]
  },
  {
   "cell_type": "code",
   "execution_count": 392,
   "metadata": {},
   "outputs": [],
   "source": [
    "ratings = df1_clean.text.str.extract('((?:\\d+\\.)?\\d+)\\/(\\d+)', expand=True)\n",
    "df1_clean.rating_numerator = ratings.astype(float)"
   ]
  },
  {
   "cell_type": "code",
   "execution_count": 393,
   "metadata": {},
   "outputs": [],
   "source": [
    "#Rate_mask = (df1_clean.rating_denominator.isna())# 0 Empty rates\n",
    "#Rate_mask = (df1_clean.rating_denominator != 10) & (df1_clean.rating_denominator.notnull()) #17 different than 10 for denom\n",
    "Rate_mask = (df1_clean.rating_denominator == 10) & (df1_clean.rating_numerator <= 15) #1898 equal or less than 15 mark over 10\n",
    "#Rate_mask = (df1_clean.rating_denominator == 10) & (df1_clean.rating_numerator > 15) # 5 bigger than 15 rank over 10\n",
    "\n",
    "df1_clean=df1_clean[Rate_mask]\n",
    "#df1_clean.shape[0] #1920\n"
   ]
  },
  {
   "cell_type": "markdown",
   "metadata": {},
   "source": [
    "#### Test"
   ]
  },
  {
   "cell_type": "code",
   "execution_count": 394,
   "metadata": {},
   "outputs": [
    {
     "data": {
      "text/plain": [
       "695    9.75\n",
       "Name: rating_numerator, dtype: float64"
      ]
     },
     "execution_count": 394,
     "metadata": {},
     "output_type": "execute_result"
    }
   ],
   "source": [
    "df1_clean.query('tweet_id==786709082849828864').rating_numerator"
   ]
  },
  {
   "cell_type": "code",
   "execution_count": 395,
   "metadata": {},
   "outputs": [
    {
     "name": "stdout",
     "output_type": "stream",
     "text": [
      "<class 'pandas.core.frame.DataFrame'>\n",
      "Int64Index: 1901 entries, 0 to 2355\n",
      "Data columns (total 17 columns):\n",
      " #   Column                      Non-Null Count  Dtype              \n",
      "---  ------                      --------------  -----              \n",
      " 0   tweet_id                    1901 non-null   int64              \n",
      " 1   in_reply_to_status_id       20 non-null     float64            \n",
      " 2   in_reply_to_user_id         20 non-null     float64            \n",
      " 3   timestamp                   1901 non-null   datetime64[ns, UTC]\n",
      " 4   source                      1901 non-null   object             \n",
      " 5   text                        1901 non-null   object             \n",
      " 6   retweeted_status_id         0 non-null      float64            \n",
      " 7   retweeted_status_user_id    0 non-null      float64            \n",
      " 8   retweeted_status_timestamp  0 non-null      object             \n",
      " 9   expanded_urls               1901 non-null   object             \n",
      " 10  rating_numerator            1901 non-null   float64            \n",
      " 11  rating_denominator          1901 non-null   int64              \n",
      " 12  name                        1314 non-null   object             \n",
      " 13  doggo                       1901 non-null   object             \n",
      " 14  floofer                     1901 non-null   object             \n",
      " 15  pupper                      1901 non-null   object             \n",
      " 16  puppo                       1901 non-null   object             \n",
      "dtypes: datetime64[ns, UTC](1), float64(5), int64(2), object(9)\n",
      "memory usage: 267.3+ KB\n"
     ]
    }
   ],
   "source": [
    "df1_clean.rating_denominator.value_counts() #all 1898 has 10 as denominator\n",
    "df1_clean.rating_numerator.value_counts() # all less than 15\n",
    "df1_clean.info()"
   ]
  },
  {
   "cell_type": "code",
   "execution_count": null,
   "metadata": {},
   "outputs": [],
   "source": []
  },
  {
   "cell_type": "markdown",
   "metadata": {},
   "source": [
    " ### #10. On `Predictions` fix names of columns to be descriptive.\n"
   ]
  },
  {
   "cell_type": "markdown",
   "metadata": {},
   "source": [
    "#### Define\n",
    "We shall user more clear naming for the columns in the Predictions table and drop unnecessary ones"
   ]
  },
  {
   "cell_type": "markdown",
   "metadata": {},
   "source": [
    "#### Code"
   ]
  },
  {
   "cell_type": "code",
   "execution_count": 396,
   "metadata": {},
   "outputs": [],
   "source": [
    "#renaming the necessary columns\n",
    "df2_clean.rename(columns={\"p1\": \"breed\", \"p1_conf\": \"confidence\"}, inplace=True)"
   ]
  },
  {
   "cell_type": "code",
   "execution_count": 397,
   "metadata": {},
   "outputs": [],
   "source": [
    "#Dropping the rest\n",
    "df2_clean=df2_clean[['tweet_id', 'jpg_url', 'breed', 'confidence']]"
   ]
  },
  {
   "cell_type": "markdown",
   "metadata": {},
   "source": [
    "#### Test"
   ]
  },
  {
   "cell_type": "code",
   "execution_count": 398,
   "metadata": {},
   "outputs": [
    {
     "data": {
      "text/plain": [
       "Index(['tweet_id', 'jpg_url', 'breed', 'confidence'], dtype='object')"
      ]
     },
     "execution_count": 398,
     "metadata": {},
     "output_type": "execute_result"
    }
   ],
   "source": [
    "df2_clean.columns"
   ]
  },
  {
   "cell_type": "code",
   "execution_count": 399,
   "metadata": {
    "scrolled": true
   },
   "outputs": [
    {
     "data": {
      "text/html": [
       "<div>\n",
       "<style scoped>\n",
       "    .dataframe tbody tr th:only-of-type {\n",
       "        vertical-align: middle;\n",
       "    }\n",
       "\n",
       "    .dataframe tbody tr th {\n",
       "        vertical-align: top;\n",
       "    }\n",
       "\n",
       "    .dataframe thead th {\n",
       "        text-align: right;\n",
       "    }\n",
       "</style>\n",
       "<table border=\"1\" class=\"dataframe\">\n",
       "  <thead>\n",
       "    <tr style=\"text-align: right;\">\n",
       "      <th></th>\n",
       "      <th>tweet_id</th>\n",
       "      <th>jpg_url</th>\n",
       "      <th>breed</th>\n",
       "      <th>confidence</th>\n",
       "    </tr>\n",
       "  </thead>\n",
       "  <tbody>\n",
       "    <tr>\n",
       "      <th>0</th>\n",
       "      <td>666020888022790149</td>\n",
       "      <td>https://pbs.twimg.com/media/CT4udn0WwAA0aMy.jpg</td>\n",
       "      <td>Welsh_springer_spaniel</td>\n",
       "      <td>0.465074</td>\n",
       "    </tr>\n",
       "    <tr>\n",
       "      <th>1</th>\n",
       "      <td>666029285002620928</td>\n",
       "      <td>https://pbs.twimg.com/media/CT42GRgUYAA5iDo.jpg</td>\n",
       "      <td>redbone</td>\n",
       "      <td>0.506826</td>\n",
       "    </tr>\n",
       "    <tr>\n",
       "      <th>2</th>\n",
       "      <td>666033412701032449</td>\n",
       "      <td>https://pbs.twimg.com/media/CT4521TWwAEvMyu.jpg</td>\n",
       "      <td>German_shepherd</td>\n",
       "      <td>0.596461</td>\n",
       "    </tr>\n",
       "    <tr>\n",
       "      <th>3</th>\n",
       "      <td>666044226329800704</td>\n",
       "      <td>https://pbs.twimg.com/media/CT5Dr8HUEAA-lEu.jpg</td>\n",
       "      <td>Rhodesian_ridgeback</td>\n",
       "      <td>0.408143</td>\n",
       "    </tr>\n",
       "    <tr>\n",
       "      <th>4</th>\n",
       "      <td>666049248165822465</td>\n",
       "      <td>https://pbs.twimg.com/media/CT5IQmsXIAAKY4A.jpg</td>\n",
       "      <td>miniature_pinscher</td>\n",
       "      <td>0.560311</td>\n",
       "    </tr>\n",
       "  </tbody>\n",
       "</table>\n",
       "</div>"
      ],
      "text/plain": [
       "             tweet_id                                          jpg_url  \\\n",
       "0  666020888022790149  https://pbs.twimg.com/media/CT4udn0WwAA0aMy.jpg   \n",
       "1  666029285002620928  https://pbs.twimg.com/media/CT42GRgUYAA5iDo.jpg   \n",
       "2  666033412701032449  https://pbs.twimg.com/media/CT4521TWwAEvMyu.jpg   \n",
       "3  666044226329800704  https://pbs.twimg.com/media/CT5Dr8HUEAA-lEu.jpg   \n",
       "4  666049248165822465  https://pbs.twimg.com/media/CT5IQmsXIAAKY4A.jpg   \n",
       "\n",
       "                    breed  confidence  \n",
       "0  Welsh_springer_spaniel  0.465074    \n",
       "1  redbone                 0.506826    \n",
       "2  German_shepherd         0.596461    \n",
       "3  Rhodesian_ridgeback     0.408143    \n",
       "4  miniature_pinscher      0.560311    "
      ]
     },
     "execution_count": 399,
     "metadata": {},
     "output_type": "execute_result"
    }
   ],
   "source": [
    "df2_clean.head()"
   ]
  },
  {
   "cell_type": "markdown",
   "metadata": {},
   "source": [
    "### #1 Tidiness  On `tweets_archive` Fix There are 4 columns for dog stages (doggo, floofer, pupper, puppo)\n",
    "  "
   ]
  },
  {
   "cell_type": "markdown",
   "metadata": {},
   "source": [
    "#### Define \n",
    "Since the 4 are attributes to dog stage, we´ll melt them into a single column named dog_stage"
   ]
  },
  {
   "cell_type": "markdown",
   "metadata": {},
   "source": [
    "#### Code"
   ]
  },
  {
   "cell_type": "code",
   "execution_count": 400,
   "metadata": {},
   "outputs": [],
   "source": [
    "#Replacing None and Nan with '' string in all columns of dog stages\n",
    "df1_clean.doggo.replace('None', '', inplace=True) \n",
    "df1_clean.doggo.replace(np.NaN, '', inplace=True)\n",
    "\n",
    "df1_clean.floofer.replace('None', '', inplace=True) \n",
    "df1_clean.floofer.replace(np.NaN, '', inplace=True)\n",
    "\n",
    "df1_clean.pupper.replace('None', '', inplace=True) \n",
    "df1_clean.pupper.replace(np.NaN, '', inplace=True)\n",
    "\n",
    "df1_clean.puppo.replace('None', '', inplace=True) \n",
    "df1_clean.puppo.replace(np.NaN, '', inplace=True)"
   ]
  },
  {
   "cell_type": "code",
   "execution_count": 401,
   "metadata": {},
   "outputs": [],
   "source": [
    "df1_clean['stage'] = df1_clean.doggo + df1_clean.floofer + df1_clean.pupper + df1_clean.puppo"
   ]
  },
  {
   "cell_type": "code",
   "execution_count": 402,
   "metadata": {},
   "outputs": [],
   "source": [
    "df1_clean.loc[df1_clean.stage == 'doggopupper', 'stage'] = 'doggo, pupper'\n",
    "df1_clean.loc[df1_clean.stage == 'doggopuppo', 'stage'] = 'doggo, puppo'\n",
    "df1_clean.loc[df1_clean.stage == 'doggofloofer', 'stage'] = 'doggo, floofer'"
   ]
  },
  {
   "cell_type": "code",
   "execution_count": 403,
   "metadata": {},
   "outputs": [],
   "source": [
    "#df1_clean=df1_clean.replace(to_replace='None', value=np.nan, regex=True)"
   ]
  },
  {
   "cell_type": "code",
   "execution_count": 404,
   "metadata": {},
   "outputs": [],
   "source": [
    "#df1_clean.puppo.value_counts()\n"
   ]
  },
  {
   "cell_type": "code",
   "execution_count": 405,
   "metadata": {},
   "outputs": [],
   "source": [
    "#creation of function that adds the value since there are duplicates (to selected stages) and the melt function doesn´t seem to work\n",
    "#def select_dog_stage(row):\n",
    "#    if row[\"doggo\"] == 'doggo':\n",
    "#      return 'doggo'\n",
    "#    elif row[\"floofer\"] == 'floofer':\n",
    "#        return 'floofer'\n",
    "#    elif row[\"pupper\"] == 'pupper':\n",
    "#        return 'pupper'\n",
    "#    elif row[\"puppo\"] == 'puppo':\n",
    "#        return 'puppo'     \n",
    "#    else:\n",
    "#        return np.nan\n",
    "#Apply the function to the df\n",
    "#df1_clean[\"dog_stage\"] = df1_clean.apply(lambda x: select_dog_stage(x), axis=1)"
   ]
  },
  {
   "cell_type": "markdown",
   "metadata": {},
   "source": [
    "#### Test"
   ]
  },
  {
   "cell_type": "code",
   "execution_count": 406,
   "metadata": {},
   "outputs": [
    {
     "data": {
      "text/html": [
       "<div>\n",
       "<style scoped>\n",
       "    .dataframe tbody tr th:only-of-type {\n",
       "        vertical-align: middle;\n",
       "    }\n",
       "\n",
       "    .dataframe tbody tr th {\n",
       "        vertical-align: top;\n",
       "    }\n",
       "\n",
       "    .dataframe thead th {\n",
       "        text-align: right;\n",
       "    }\n",
       "</style>\n",
       "<table border=\"1\" class=\"dataframe\">\n",
       "  <thead>\n",
       "    <tr style=\"text-align: right;\">\n",
       "      <th></th>\n",
       "      <th>doggo</th>\n",
       "      <th>floofer</th>\n",
       "      <th>pupper</th>\n",
       "      <th>puppo</th>\n",
       "      <th>county</th>\n",
       "    </tr>\n",
       "  </thead>\n",
       "  <tbody>\n",
       "    <tr>\n",
       "      <th>0</th>\n",
       "      <td></td>\n",
       "      <td></td>\n",
       "      <td></td>\n",
       "      <td></td>\n",
       "      <td>1614</td>\n",
       "    </tr>\n",
       "    <tr>\n",
       "      <th>1</th>\n",
       "      <td></td>\n",
       "      <td></td>\n",
       "      <td></td>\n",
       "      <td>puppo</td>\n",
       "      <td>22</td>\n",
       "    </tr>\n",
       "    <tr>\n",
       "      <th>2</th>\n",
       "      <td></td>\n",
       "      <td></td>\n",
       "      <td>pupper</td>\n",
       "      <td></td>\n",
       "      <td>194</td>\n",
       "    </tr>\n",
       "    <tr>\n",
       "      <th>3</th>\n",
       "      <td></td>\n",
       "      <td>floofer</td>\n",
       "      <td></td>\n",
       "      <td></td>\n",
       "      <td>6</td>\n",
       "    </tr>\n",
       "    <tr>\n",
       "      <th>4</th>\n",
       "      <td>doggo</td>\n",
       "      <td></td>\n",
       "      <td></td>\n",
       "      <td></td>\n",
       "      <td>55</td>\n",
       "    </tr>\n",
       "    <tr>\n",
       "      <th>5</th>\n",
       "      <td>doggo</td>\n",
       "      <td></td>\n",
       "      <td></td>\n",
       "      <td>puppo</td>\n",
       "      <td>1</td>\n",
       "    </tr>\n",
       "    <tr>\n",
       "      <th>6</th>\n",
       "      <td>doggo</td>\n",
       "      <td></td>\n",
       "      <td>pupper</td>\n",
       "      <td></td>\n",
       "      <td>8</td>\n",
       "    </tr>\n",
       "    <tr>\n",
       "      <th>7</th>\n",
       "      <td>doggo</td>\n",
       "      <td>floofer</td>\n",
       "      <td></td>\n",
       "      <td></td>\n",
       "      <td>1</td>\n",
       "    </tr>\n",
       "  </tbody>\n",
       "</table>\n",
       "</div>"
      ],
      "text/plain": [
       "   doggo  floofer  pupper  puppo  county\n",
       "0                                 1614  \n",
       "1                          puppo  22    \n",
       "2                  pupper         194   \n",
       "3         floofer                 6     \n",
       "4  doggo                          55    \n",
       "5  doggo                   puppo  1     \n",
       "6  doggo           pupper         8     \n",
       "7  doggo  floofer                 1     "
      ]
     },
     "execution_count": 406,
     "metadata": {},
     "output_type": "execute_result"
    }
   ],
   "source": [
    "df1_clean.groupby([\"doggo\", \"floofer\", \"pupper\", \"puppo\"]).size().reset_index().rename(columns={0: \"county\"})"
   ]
  },
  {
   "cell_type": "code",
   "execution_count": 407,
   "metadata": {},
   "outputs": [
    {
     "name": "stdout",
     "output_type": "stream",
     "text": [
      "<class 'pandas.core.frame.DataFrame'>\n",
      "Int64Index: 1901 entries, 0 to 2355\n",
      "Data columns (total 18 columns):\n",
      " #   Column                      Non-Null Count  Dtype              \n",
      "---  ------                      --------------  -----              \n",
      " 0   tweet_id                    1901 non-null   int64              \n",
      " 1   in_reply_to_status_id       20 non-null     float64            \n",
      " 2   in_reply_to_user_id         20 non-null     float64            \n",
      " 3   timestamp                   1901 non-null   datetime64[ns, UTC]\n",
      " 4   source                      1901 non-null   object             \n",
      " 5   text                        1901 non-null   object             \n",
      " 6   retweeted_status_id         0 non-null      float64            \n",
      " 7   retweeted_status_user_id    0 non-null      float64            \n",
      " 8   retweeted_status_timestamp  0 non-null      object             \n",
      " 9   expanded_urls               1901 non-null   object             \n",
      " 10  rating_numerator            1901 non-null   float64            \n",
      " 11  rating_denominator          1901 non-null   int64              \n",
      " 12  name                        1314 non-null   object             \n",
      " 13  doggo                       1901 non-null   object             \n",
      " 14  floofer                     1901 non-null   object             \n",
      " 15  pupper                      1901 non-null   object             \n",
      " 16  puppo                       1901 non-null   object             \n",
      " 17  stage                       1901 non-null   object             \n",
      "dtypes: datetime64[ns, UTC](1), float64(5), int64(2), object(10)\n",
      "memory usage: 282.2+ KB\n"
     ]
    }
   ],
   "source": [
    "df1_clean.info()"
   ]
  },
  {
   "cell_type": "code",
   "execution_count": null,
   "metadata": {},
   "outputs": [],
   "source": []
  },
  {
   "cell_type": "markdown",
   "metadata": {},
   "source": [
    " ### #11. Drop unnecessary columns (Quality)."
   ]
  },
  {
   "cell_type": "markdown",
   "metadata": {},
   "source": [
    "#### Define\n",
    "On the Tweet_API and tweets table there are many columns we don´t need. We´ll clean that up in preparation for the join of the tables"
   ]
  },
  {
   "cell_type": "markdown",
   "metadata": {},
   "source": [
    "#### Code"
   ]
  },
  {
   "cell_type": "code",
   "execution_count": 408,
   "metadata": {},
   "outputs": [],
   "source": [
    "df3_data_clean=df3_data_clean[['id', 'retweet_count', 'favorite_count']]\n",
    "df1_clean=df1_clean[['tweet_id', 'timestamp',\n",
    "       'source', 'text', 'expanded_urls', 'rating_numerator',\n",
    "       'rating_denominator', 'name','stage']]\n"
   ]
  },
  {
   "cell_type": "code",
   "execution_count": 409,
   "metadata": {},
   "outputs": [],
   "source": [
    "df3_data_clean.rename(columns={\"id\": \"tweet_id\"}, inplace=True)"
   ]
  },
  {
   "cell_type": "markdown",
   "metadata": {},
   "source": [
    "#### Test"
   ]
  },
  {
   "cell_type": "code",
   "execution_count": 410,
   "metadata": {},
   "outputs": [
    {
     "data": {
      "text/plain": [
       "                  1614\n",
       "pupper            194 \n",
       "doggo             55  \n",
       "puppo             22  \n",
       "doggo, pupper     8   \n",
       "floofer           6   \n",
       "doggo, puppo      1   \n",
       "doggo, floofer    1   \n",
       "Name: stage, dtype: int64"
      ]
     },
     "execution_count": 410,
     "metadata": {},
     "output_type": "execute_result"
    }
   ],
   "source": [
    "df1_clean.stage.value_counts()"
   ]
  },
  {
   "cell_type": "code",
   "execution_count": 411,
   "metadata": {},
   "outputs": [
    {
     "data": {
      "text/plain": [
       "Index(['tweet_id', 'retweet_count', 'favorite_count'], dtype='object')"
      ]
     },
     "execution_count": 411,
     "metadata": {},
     "output_type": "execute_result"
    }
   ],
   "source": [
    "df3_data_clean.columns"
   ]
  },
  {
   "cell_type": "code",
   "execution_count": 412,
   "metadata": {},
   "outputs": [
    {
     "data": {
      "text/html": [
       "<div>\n",
       "<style scoped>\n",
       "    .dataframe tbody tr th:only-of-type {\n",
       "        vertical-align: middle;\n",
       "    }\n",
       "\n",
       "    .dataframe tbody tr th {\n",
       "        vertical-align: top;\n",
       "    }\n",
       "\n",
       "    .dataframe thead th {\n",
       "        text-align: right;\n",
       "    }\n",
       "</style>\n",
       "<table border=\"1\" class=\"dataframe\">\n",
       "  <thead>\n",
       "    <tr style=\"text-align: right;\">\n",
       "      <th></th>\n",
       "      <th>tweet_id</th>\n",
       "      <th>timestamp</th>\n",
       "      <th>source</th>\n",
       "      <th>text</th>\n",
       "      <th>expanded_urls</th>\n",
       "      <th>rating_numerator</th>\n",
       "      <th>rating_denominator</th>\n",
       "      <th>name</th>\n",
       "      <th>stage</th>\n",
       "    </tr>\n",
       "  </thead>\n",
       "  <tbody>\n",
       "    <tr>\n",
       "      <th>933</th>\n",
       "      <td>753655901052166144</td>\n",
       "      <td>2016-07-14 18:22:23+00:00</td>\n",
       "      <td>Twitter for iPhone</td>\n",
       "      <td>\"The dogtor is in hahahaha no but seriously I'm very qualified and that tumor is definitely malignant\" 10/10 https://t.co/ULqThwWmLg</td>\n",
       "      <td>https://twitter.com/dog_rates/status/753655901052166144/photo/1</td>\n",
       "      <td>10.0</td>\n",
       "      <td>10</td>\n",
       "      <td>NaN</td>\n",
       "      <td></td>\n",
       "    </tr>\n",
       "    <tr>\n",
       "      <th>1402</th>\n",
       "      <td>699423671849451520</td>\n",
       "      <td>2016-02-16 02:42:52+00:00</td>\n",
       "      <td>Twitter for iPhone</td>\n",
       "      <td>\"Don't ever talk to me or my son again.\" ...both 10/10 https://t.co/b8ncwl6TlE</td>\n",
       "      <td>https://twitter.com/dog_rates/status/699423671849451520/photo/1</td>\n",
       "      <td>10.0</td>\n",
       "      <td>10</td>\n",
       "      <td>NaN</td>\n",
       "      <td></td>\n",
       "    </tr>\n",
       "  </tbody>\n",
       "</table>\n",
       "</div>"
      ],
      "text/plain": [
       "                tweet_id                 timestamp              source  \\\n",
       "933   753655901052166144 2016-07-14 18:22:23+00:00  Twitter for iPhone   \n",
       "1402  699423671849451520 2016-02-16 02:42:52+00:00  Twitter for iPhone   \n",
       "\n",
       "                                                                                                                                      text  \\\n",
       "933   \"The dogtor is in hahahaha no but seriously I'm very qualified and that tumor is definitely malignant\" 10/10 https://t.co/ULqThwWmLg   \n",
       "1402  \"Don't ever talk to me or my son again.\" ...both 10/10 https://t.co/b8ncwl6TlE                                                         \n",
       "\n",
       "                                                        expanded_urls  \\\n",
       "933   https://twitter.com/dog_rates/status/753655901052166144/photo/1   \n",
       "1402  https://twitter.com/dog_rates/status/699423671849451520/photo/1   \n",
       "\n",
       "      rating_numerator  rating_denominator name stage  \n",
       "933   10.0              10                  NaN        \n",
       "1402  10.0              10                  NaN        "
      ]
     },
     "execution_count": 412,
     "metadata": {},
     "output_type": "execute_result"
    }
   ],
   "source": [
    "df1_clean.sample(2)"
   ]
  },
  {
   "cell_type": "code",
   "execution_count": 413,
   "metadata": {},
   "outputs": [
    {
     "data": {
      "text/html": [
       "<div>\n",
       "<style scoped>\n",
       "    .dataframe tbody tr th:only-of-type {\n",
       "        vertical-align: middle;\n",
       "    }\n",
       "\n",
       "    .dataframe tbody tr th {\n",
       "        vertical-align: top;\n",
       "    }\n",
       "\n",
       "    .dataframe thead th {\n",
       "        text-align: right;\n",
       "    }\n",
       "</style>\n",
       "<table border=\"1\" class=\"dataframe\">\n",
       "  <thead>\n",
       "    <tr style=\"text-align: right;\">\n",
       "      <th></th>\n",
       "      <th>tweet_id</th>\n",
       "      <th>jpg_url</th>\n",
       "      <th>breed</th>\n",
       "      <th>confidence</th>\n",
       "    </tr>\n",
       "  </thead>\n",
       "  <tbody>\n",
       "    <tr>\n",
       "      <th>386</th>\n",
       "      <td>673350198937153538</td>\n",
       "      <td>https://pbs.twimg.com/media/CVg4bo8WEAANEEE.jpg</td>\n",
       "      <td>West_Highland_white_terrier</td>\n",
       "      <td>0.119188</td>\n",
       "    </tr>\n",
       "    <tr>\n",
       "      <th>863</th>\n",
       "      <td>697259378236399616</td>\n",
       "      <td>https://pbs.twimg.com/media/Ca0ps3AXEAAnp9m.jpg</td>\n",
       "      <td>Great_Dane</td>\n",
       "      <td>0.999223</td>\n",
       "    </tr>\n",
       "  </tbody>\n",
       "</table>\n",
       "</div>"
      ],
      "text/plain": [
       "               tweet_id                                          jpg_url  \\\n",
       "386  673350198937153538  https://pbs.twimg.com/media/CVg4bo8WEAANEEE.jpg   \n",
       "863  697259378236399616  https://pbs.twimg.com/media/Ca0ps3AXEAAnp9m.jpg   \n",
       "\n",
       "                           breed  confidence  \n",
       "386  West_Highland_white_terrier  0.119188    \n",
       "863  Great_Dane                   0.999223    "
      ]
     },
     "execution_count": 413,
     "metadata": {},
     "output_type": "execute_result"
    }
   ],
   "source": [
    "\n",
    "df2_clean.sample(2)"
   ]
  },
  {
   "cell_type": "code",
   "execution_count": 414,
   "metadata": {
    "scrolled": true
   },
   "outputs": [
    {
     "data": {
      "text/html": [
       "<div>\n",
       "<style scoped>\n",
       "    .dataframe tbody tr th:only-of-type {\n",
       "        vertical-align: middle;\n",
       "    }\n",
       "\n",
       "    .dataframe tbody tr th {\n",
       "        vertical-align: top;\n",
       "    }\n",
       "\n",
       "    .dataframe thead th {\n",
       "        text-align: right;\n",
       "    }\n",
       "</style>\n",
       "<table border=\"1\" class=\"dataframe\">\n",
       "  <thead>\n",
       "    <tr style=\"text-align: right;\">\n",
       "      <th></th>\n",
       "      <th>tweet_id</th>\n",
       "      <th>retweet_count</th>\n",
       "      <th>favorite_count</th>\n",
       "    </tr>\n",
       "  </thead>\n",
       "  <tbody>\n",
       "    <tr>\n",
       "      <th>1502</th>\n",
       "      <td>691820333922455552</td>\n",
       "      <td>1860</td>\n",
       "      <td>4329</td>\n",
       "    </tr>\n",
       "    <tr>\n",
       "      <th>1889</th>\n",
       "      <td>674764817387900928</td>\n",
       "      <td>263</td>\n",
       "      <td>852</td>\n",
       "    </tr>\n",
       "  </tbody>\n",
       "</table>\n",
       "</div>"
      ],
      "text/plain": [
       "                tweet_id  retweet_count  favorite_count\n",
       "1502  691820333922455552  1860           4329          \n",
       "1889  674764817387900928  263            852           "
      ]
     },
     "execution_count": 414,
     "metadata": {},
     "output_type": "execute_result"
    }
   ],
   "source": [
    "df3_data_clean.sample(2)"
   ]
  },
  {
   "cell_type": "markdown",
   "metadata": {},
   "source": [
    "### #2  Merging the tables in a cleaned single one"
   ]
  },
  {
   "cell_type": "code",
   "execution_count": 415,
   "metadata": {},
   "outputs": [],
   "source": [
    "df_clean = pd.merge(df1_clean, df2_clean, on = 'tweet_id', how = 'left')"
   ]
  },
  {
   "cell_type": "code",
   "execution_count": 416,
   "metadata": {},
   "outputs": [],
   "source": [
    "df_clean = pd.merge(df_clean, df3_data_clean, on = 'tweet_id', how = 'left')"
   ]
  },
  {
   "cell_type": "code",
   "execution_count": 417,
   "metadata": {},
   "outputs": [
    {
     "name": "stdout",
     "output_type": "stream",
     "text": [
      "<class 'pandas.core.frame.DataFrame'>\n",
      "Int64Index: 1901 entries, 0 to 1900\n",
      "Data columns (total 14 columns):\n",
      " #   Column              Non-Null Count  Dtype              \n",
      "---  ------              --------------  -----              \n",
      " 0   tweet_id            1901 non-null   int64              \n",
      " 1   timestamp           1901 non-null   datetime64[ns, UTC]\n",
      " 2   source              1901 non-null   object             \n",
      " 3   text                1901 non-null   object             \n",
      " 4   expanded_urls       1901 non-null   object             \n",
      " 5   rating_numerator    1901 non-null   float64            \n",
      " 6   rating_denominator  1901 non-null   int64              \n",
      " 7   name                1314 non-null   object             \n",
      " 8   stage               1901 non-null   object             \n",
      " 9   jpg_url             1415 non-null   object             \n",
      " 10  breed               1415 non-null   object             \n",
      " 11  confidence          1415 non-null   float64            \n",
      " 12  retweet_count       1901 non-null   int64              \n",
      " 13  favorite_count      1901 non-null   int64              \n",
      "dtypes: datetime64[ns, UTC](1), float64(2), int64(4), object(7)\n",
      "memory usage: 222.8+ KB\n"
     ]
    }
   ],
   "source": [
    "df_clean.info()"
   ]
  },
  {
   "cell_type": "code",
   "execution_count": 418,
   "metadata": {},
   "outputs": [
    {
     "data": {
      "text/html": [
       "<div>\n",
       "<style scoped>\n",
       "    .dataframe tbody tr th:only-of-type {\n",
       "        vertical-align: middle;\n",
       "    }\n",
       "\n",
       "    .dataframe tbody tr th {\n",
       "        vertical-align: top;\n",
       "    }\n",
       "\n",
       "    .dataframe thead th {\n",
       "        text-align: right;\n",
       "    }\n",
       "</style>\n",
       "<table border=\"1\" class=\"dataframe\">\n",
       "  <thead>\n",
       "    <tr style=\"text-align: right;\">\n",
       "      <th></th>\n",
       "      <th>tweet_id</th>\n",
       "      <th>timestamp</th>\n",
       "      <th>source</th>\n",
       "      <th>text</th>\n",
       "      <th>expanded_urls</th>\n",
       "      <th>rating_numerator</th>\n",
       "      <th>rating_denominator</th>\n",
       "      <th>name</th>\n",
       "      <th>stage</th>\n",
       "      <th>jpg_url</th>\n",
       "      <th>breed</th>\n",
       "      <th>confidence</th>\n",
       "      <th>retweet_count</th>\n",
       "      <th>favorite_count</th>\n",
       "    </tr>\n",
       "  </thead>\n",
       "  <tbody>\n",
       "    <tr>\n",
       "      <th>0</th>\n",
       "      <td>892420643555336193</td>\n",
       "      <td>2017-08-01 16:23:56+00:00</td>\n",
       "      <td>Twitter for iPhone</td>\n",
       "      <td>This is Phineas. He's a mystical boy. Only ever appears in the hole of a donut. 13/10 https://t.co/MgUWQ76dJU</td>\n",
       "      <td>https://twitter.com/dog_rates/status/892420643555336193/photo/1</td>\n",
       "      <td>13.0</td>\n",
       "      <td>10</td>\n",
       "      <td>Phineas</td>\n",
       "      <td></td>\n",
       "      <td>NaN</td>\n",
       "      <td>NaN</td>\n",
       "      <td>NaN</td>\n",
       "      <td>8853</td>\n",
       "      <td>39467</td>\n",
       "    </tr>\n",
       "    <tr>\n",
       "      <th>1</th>\n",
       "      <td>892177421306343426</td>\n",
       "      <td>2017-08-01 00:17:27+00:00</td>\n",
       "      <td>Twitter for iPhone</td>\n",
       "      <td>This is Tilly. She's just checking pup on you. Hopes you're doing ok. If not, she's available for pats, snugs, boops, the whole bit. 13/10 https://t.co/0Xxu71qeIV</td>\n",
       "      <td>https://twitter.com/dog_rates/status/892177421306343426/photo/1</td>\n",
       "      <td>13.0</td>\n",
       "      <td>10</td>\n",
       "      <td>Tilly</td>\n",
       "      <td></td>\n",
       "      <td>https://pbs.twimg.com/media/DGGmoV4XsAAUL6n.jpg</td>\n",
       "      <td>Chihuahua</td>\n",
       "      <td>0.323581</td>\n",
       "      <td>6514</td>\n",
       "      <td>33819</td>\n",
       "    </tr>\n",
       "    <tr>\n",
       "      <th>2</th>\n",
       "      <td>891815181378084864</td>\n",
       "      <td>2017-07-31 00:18:03+00:00</td>\n",
       "      <td>Twitter for iPhone</td>\n",
       "      <td>This is Archie. He is a rare Norwegian Pouncing Corgo. Lives in the tall grass. You never know when one may strike. 12/10 https://t.co/wUnZnhtVJB</td>\n",
       "      <td>https://twitter.com/dog_rates/status/891815181378084864/photo/1</td>\n",
       "      <td>12.0</td>\n",
       "      <td>10</td>\n",
       "      <td>Archie</td>\n",
       "      <td></td>\n",
       "      <td>https://pbs.twimg.com/media/DGBdLU1WsAANxJ9.jpg</td>\n",
       "      <td>Chihuahua</td>\n",
       "      <td>0.716012</td>\n",
       "      <td>4328</td>\n",
       "      <td>25461</td>\n",
       "    </tr>\n",
       "    <tr>\n",
       "      <th>3</th>\n",
       "      <td>891689557279858688</td>\n",
       "      <td>2017-07-30 15:58:51+00:00</td>\n",
       "      <td>Twitter for iPhone</td>\n",
       "      <td>This is Darla. She commenced a snooze mid meal. 13/10 happens to the best of us https://t.co/tD36da7qLQ</td>\n",
       "      <td>https://twitter.com/dog_rates/status/891689557279858688/photo/1</td>\n",
       "      <td>13.0</td>\n",
       "      <td>10</td>\n",
       "      <td>Darla</td>\n",
       "      <td></td>\n",
       "      <td>NaN</td>\n",
       "      <td>NaN</td>\n",
       "      <td>NaN</td>\n",
       "      <td>8964</td>\n",
       "      <td>42908</td>\n",
       "    </tr>\n",
       "    <tr>\n",
       "      <th>4</th>\n",
       "      <td>891327558926688256</td>\n",
       "      <td>2017-07-29 16:00:24+00:00</td>\n",
       "      <td>Twitter for iPhone</td>\n",
       "      <td>This is Franklin. He would like you to stop calling him \"cute.\" He is a very fierce shark and should be respected as such. 12/10 #BarkWeek https://t.co/AtUZn91f7f</td>\n",
       "      <td>https://twitter.com/dog_rates/status/891327558926688256/photo/1,https://twitter.com/dog_rates/status/891327558926688256/photo/1</td>\n",
       "      <td>12.0</td>\n",
       "      <td>10</td>\n",
       "      <td>Franklin</td>\n",
       "      <td></td>\n",
       "      <td>https://pbs.twimg.com/media/DF6hr6BUMAAzZgT.jpg</td>\n",
       "      <td>basset</td>\n",
       "      <td>0.555712</td>\n",
       "      <td>9774</td>\n",
       "      <td>41048</td>\n",
       "    </tr>\n",
       "  </tbody>\n",
       "</table>\n",
       "</div>"
      ],
      "text/plain": [
       "             tweet_id                 timestamp              source  \\\n",
       "0  892420643555336193 2017-08-01 16:23:56+00:00  Twitter for iPhone   \n",
       "1  892177421306343426 2017-08-01 00:17:27+00:00  Twitter for iPhone   \n",
       "2  891815181378084864 2017-07-31 00:18:03+00:00  Twitter for iPhone   \n",
       "3  891689557279858688 2017-07-30 15:58:51+00:00  Twitter for iPhone   \n",
       "4  891327558926688256 2017-07-29 16:00:24+00:00  Twitter for iPhone   \n",
       "\n",
       "                                                                                                                                                                 text  \\\n",
       "0  This is Phineas. He's a mystical boy. Only ever appears in the hole of a donut. 13/10 https://t.co/MgUWQ76dJU                                                        \n",
       "1  This is Tilly. She's just checking pup on you. Hopes you're doing ok. If not, she's available for pats, snugs, boops, the whole bit. 13/10 https://t.co/0Xxu71qeIV   \n",
       "2  This is Archie. He is a rare Norwegian Pouncing Corgo. Lives in the tall grass. You never know when one may strike. 12/10 https://t.co/wUnZnhtVJB                    \n",
       "3  This is Darla. She commenced a snooze mid meal. 13/10 happens to the best of us https://t.co/tD36da7qLQ                                                              \n",
       "4  This is Franklin. He would like you to stop calling him \"cute.\" He is a very fierce shark and should be respected as such. 12/10 #BarkWeek https://t.co/AtUZn91f7f   \n",
       "\n",
       "                                                                                                                     expanded_urls  \\\n",
       "0  https://twitter.com/dog_rates/status/892420643555336193/photo/1                                                                   \n",
       "1  https://twitter.com/dog_rates/status/892177421306343426/photo/1                                                                   \n",
       "2  https://twitter.com/dog_rates/status/891815181378084864/photo/1                                                                   \n",
       "3  https://twitter.com/dog_rates/status/891689557279858688/photo/1                                                                   \n",
       "4  https://twitter.com/dog_rates/status/891327558926688256/photo/1,https://twitter.com/dog_rates/status/891327558926688256/photo/1   \n",
       "\n",
       "   rating_numerator  rating_denominator      name stage  \\\n",
       "0  13.0              10                  Phineas          \n",
       "1  13.0              10                  Tilly            \n",
       "2  12.0              10                  Archie           \n",
       "3  13.0              10                  Darla            \n",
       "4  12.0              10                  Franklin         \n",
       "\n",
       "                                           jpg_url      breed  confidence  \\\n",
       "0  NaN                                              NaN       NaN           \n",
       "1  https://pbs.twimg.com/media/DGGmoV4XsAAUL6n.jpg  Chihuahua  0.323581     \n",
       "2  https://pbs.twimg.com/media/DGBdLU1WsAANxJ9.jpg  Chihuahua  0.716012     \n",
       "3  NaN                                              NaN       NaN           \n",
       "4  https://pbs.twimg.com/media/DF6hr6BUMAAzZgT.jpg  basset     0.555712     \n",
       "\n",
       "   retweet_count  favorite_count  \n",
       "0  8853           39467           \n",
       "1  6514           33819           \n",
       "2  4328           25461           \n",
       "3  8964           42908           \n",
       "4  9774           41048           "
      ]
     },
     "execution_count": 418,
     "metadata": {},
     "output_type": "execute_result"
    }
   ],
   "source": [
    "df_clean.head()"
   ]
  },
  {
   "cell_type": "code",
   "execution_count": 419,
   "metadata": {},
   "outputs": [],
   "source": [
    "#Storing in a CSV\n",
    "df_clean.to_csv('master_Tweeter_file.csv', index = False)"
   ]
  },
  {
   "cell_type": "code",
   "execution_count": 420,
   "metadata": {},
   "outputs": [],
   "source": [
    "#Storing on a DB\n",
    "engine = create_engine('sqlite:///Twitter.db')\n",
    "df_clean.to_sql('df_clean', engine, index=False)"
   ]
  },
  {
   "cell_type": "markdown",
   "metadata": {},
   "source": [
    "## Analysing the data"
   ]
  },
  {
   "cell_type": "code",
   "execution_count": 421,
   "metadata": {},
   "outputs": [
    {
     "data": {
      "text/html": [
       "<div>\n",
       "<style scoped>\n",
       "    .dataframe tbody tr th:only-of-type {\n",
       "        vertical-align: middle;\n",
       "    }\n",
       "\n",
       "    .dataframe tbody tr th {\n",
       "        vertical-align: top;\n",
       "    }\n",
       "\n",
       "    .dataframe thead th {\n",
       "        text-align: right;\n",
       "    }\n",
       "</style>\n",
       "<table border=\"1\" class=\"dataframe\">\n",
       "  <thead>\n",
       "    <tr style=\"text-align: right;\">\n",
       "      <th></th>\n",
       "      <th>tweet_id</th>\n",
       "      <th>rating_numerator</th>\n",
       "      <th>rating_denominator</th>\n",
       "      <th>confidence</th>\n",
       "      <th>retweet_count</th>\n",
       "      <th>favorite_count</th>\n",
       "    </tr>\n",
       "  </thead>\n",
       "  <tbody>\n",
       "    <tr>\n",
       "      <th>count</th>\n",
       "      <td>1.901000e+03</td>\n",
       "      <td>1901.000000</td>\n",
       "      <td>1901.0</td>\n",
       "      <td>1415.000000</td>\n",
       "      <td>1901.000000</td>\n",
       "      <td>1901.000000</td>\n",
       "    </tr>\n",
       "    <tr>\n",
       "      <th>mean</th>\n",
       "      <td>7.349797e+17</td>\n",
       "      <td>10.500673</td>\n",
       "      <td>10.0</td>\n",
       "      <td>0.618829</td>\n",
       "      <td>2518.286691</td>\n",
       "      <td>8475.993161</td>\n",
       "    </tr>\n",
       "    <tr>\n",
       "      <th>std</th>\n",
       "      <td>6.749918e+16</td>\n",
       "      <td>2.182102</td>\n",
       "      <td>0.0</td>\n",
       "      <td>0.259865</td>\n",
       "      <td>3604.357652</td>\n",
       "      <td>11091.477315</td>\n",
       "    </tr>\n",
       "    <tr>\n",
       "      <th>min</th>\n",
       "      <td>6.660209e+17</td>\n",
       "      <td>0.000000</td>\n",
       "      <td>10.0</td>\n",
       "      <td>0.044333</td>\n",
       "      <td>16.000000</td>\n",
       "      <td>81.000000</td>\n",
       "    </tr>\n",
       "    <tr>\n",
       "      <th>25%</th>\n",
       "      <td>6.753626e+17</td>\n",
       "      <td>10.000000</td>\n",
       "      <td>10.0</td>\n",
       "      <td>0.397229</td>\n",
       "      <td>612.000000</td>\n",
       "      <td>1879.000000</td>\n",
       "    </tr>\n",
       "    <tr>\n",
       "      <th>50%</th>\n",
       "      <td>7.074119e+17</td>\n",
       "      <td>11.000000</td>\n",
       "      <td>10.0</td>\n",
       "      <td>0.620768</td>\n",
       "      <td>1324.000000</td>\n",
       "      <td>4016.000000</td>\n",
       "    </tr>\n",
       "    <tr>\n",
       "      <th>75%</th>\n",
       "      <td>7.867091e+17</td>\n",
       "      <td>12.000000</td>\n",
       "      <td>10.0</td>\n",
       "      <td>0.858504</td>\n",
       "      <td>3115.000000</td>\n",
       "      <td>11065.000000</td>\n",
       "    </tr>\n",
       "    <tr>\n",
       "      <th>max</th>\n",
       "      <td>8.924206e+17</td>\n",
       "      <td>14.000000</td>\n",
       "      <td>10.0</td>\n",
       "      <td>0.999956</td>\n",
       "      <td>48265.000000</td>\n",
       "      <td>132810.000000</td>\n",
       "    </tr>\n",
       "  </tbody>\n",
       "</table>\n",
       "</div>"
      ],
      "text/plain": [
       "           tweet_id  rating_numerator  rating_denominator   confidence  \\\n",
       "count  1.901000e+03  1901.000000       1901.0              1415.000000   \n",
       "mean   7.349797e+17  10.500673         10.0                0.618829      \n",
       "std    6.749918e+16  2.182102          0.0                 0.259865      \n",
       "min    6.660209e+17  0.000000          10.0                0.044333      \n",
       "25%    6.753626e+17  10.000000         10.0                0.397229      \n",
       "50%    7.074119e+17  11.000000         10.0                0.620768      \n",
       "75%    7.867091e+17  12.000000         10.0                0.858504      \n",
       "max    8.924206e+17  14.000000         10.0                0.999956      \n",
       "\n",
       "       retweet_count  favorite_count  \n",
       "count  1901.000000    1901.000000     \n",
       "mean   2518.286691    8475.993161     \n",
       "std    3604.357652    11091.477315    \n",
       "min    16.000000      81.000000       \n",
       "25%    612.000000     1879.000000     \n",
       "50%    1324.000000    4016.000000     \n",
       "75%    3115.000000    11065.000000    \n",
       "max    48265.000000   132810.000000   "
      ]
     },
     "execution_count": 421,
     "metadata": {},
     "output_type": "execute_result"
    }
   ],
   "source": [
    "df_clean.describe()"
   ]
  },
  {
   "cell_type": "code",
   "execution_count": 422,
   "metadata": {},
   "outputs": [
    {
     "data": {
      "text/html": [
       "<div>\n",
       "<style scoped>\n",
       "    .dataframe tbody tr th:only-of-type {\n",
       "        vertical-align: middle;\n",
       "    }\n",
       "\n",
       "    .dataframe tbody tr th {\n",
       "        vertical-align: top;\n",
       "    }\n",
       "\n",
       "    .dataframe thead th {\n",
       "        text-align: right;\n",
       "    }\n",
       "</style>\n",
       "<table border=\"1\" class=\"dataframe\">\n",
       "  <thead>\n",
       "    <tr style=\"text-align: right;\">\n",
       "      <th></th>\n",
       "      <th>tweet_id</th>\n",
       "      <th>timestamp</th>\n",
       "      <th>source</th>\n",
       "      <th>text</th>\n",
       "      <th>expanded_urls</th>\n",
       "      <th>rating_numerator</th>\n",
       "      <th>rating_denominator</th>\n",
       "      <th>name</th>\n",
       "      <th>stage</th>\n",
       "      <th>jpg_url</th>\n",
       "      <th>breed</th>\n",
       "      <th>confidence</th>\n",
       "      <th>retweet_count</th>\n",
       "      <th>favorite_count</th>\n",
       "    </tr>\n",
       "  </thead>\n",
       "  <tbody>\n",
       "    <tr>\n",
       "      <th>338</th>\n",
       "      <td>814153002265309185</td>\n",
       "      <td>2016-12-28 16:56:16+00:00</td>\n",
       "      <td>Twitter for iPhone</td>\n",
       "      <td>This is Oshie. He's ready to party. Bought that case himself. 12/10 someone tell Oshie it's Wednesday morning https://t.co/YIJo7X7K9J</td>\n",
       "      <td>https://twitter.com/dog_rates/status/814153002265309185/photo/1</td>\n",
       "      <td>12.0</td>\n",
       "      <td>10</td>\n",
       "      <td>Oshie</td>\n",
       "      <td></td>\n",
       "      <td>https://pbs.twimg.com/media/C0xz04SVIAAeyDb.jpg</td>\n",
       "      <td>golden_retriever</td>\n",
       "      <td>0.490068</td>\n",
       "      <td>10080</td>\n",
       "      <td>32000</td>\n",
       "    </tr>\n",
       "    <tr>\n",
       "      <th>27</th>\n",
       "      <td>885984800019947520</td>\n",
       "      <td>2017-07-14 22:10:11+00:00</td>\n",
       "      <td>Twitter for iPhone</td>\n",
       "      <td>Viewer discretion advised. This is Jimbo. He will rip ur finger right h*ckin off. Other dog clearly an accessory. 12/10 pls pet with caution https://t.co/BuveP0uMF1</td>\n",
       "      <td>https://twitter.com/dog_rates/status/885984800019947520/photo/1</td>\n",
       "      <td>12.0</td>\n",
       "      <td>10</td>\n",
       "      <td>Jimbo</td>\n",
       "      <td></td>\n",
       "      <td>https://pbs.twimg.com/media/DEumeWWV0AA-Z61.jpg</td>\n",
       "      <td>Blenheim_spaniel</td>\n",
       "      <td>0.972494</td>\n",
       "      <td>7097</td>\n",
       "      <td>33382</td>\n",
       "    </tr>\n",
       "  </tbody>\n",
       "</table>\n",
       "</div>"
      ],
      "text/plain": [
       "               tweet_id                 timestamp              source  \\\n",
       "338  814153002265309185 2016-12-28 16:56:16+00:00  Twitter for iPhone   \n",
       "27   885984800019947520 2017-07-14 22:10:11+00:00  Twitter for iPhone   \n",
       "\n",
       "                                                                                                                                                                     text  \\\n",
       "338  This is Oshie. He's ready to party. Bought that case himself. 12/10 someone tell Oshie it's Wednesday morning https://t.co/YIJo7X7K9J                                  \n",
       "27   Viewer discretion advised. This is Jimbo. He will rip ur finger right h*ckin off. Other dog clearly an accessory. 12/10 pls pet with caution https://t.co/BuveP0uMF1   \n",
       "\n",
       "                                                       expanded_urls  \\\n",
       "338  https://twitter.com/dog_rates/status/814153002265309185/photo/1   \n",
       "27   https://twitter.com/dog_rates/status/885984800019947520/photo/1   \n",
       "\n",
       "     rating_numerator  rating_denominator   name stage  \\\n",
       "338  12.0              10                  Oshie         \n",
       "27   12.0              10                  Jimbo         \n",
       "\n",
       "                                             jpg_url             breed  \\\n",
       "338  https://pbs.twimg.com/media/C0xz04SVIAAeyDb.jpg  golden_retriever   \n",
       "27   https://pbs.twimg.com/media/DEumeWWV0AA-Z61.jpg  Blenheim_spaniel   \n",
       "\n",
       "     confidence  retweet_count  favorite_count  \n",
       "338  0.490068    10080          32000           \n",
       "27   0.972494    7097           33382           "
      ]
     },
     "execution_count": 422,
     "metadata": {},
     "output_type": "execute_result"
    }
   ],
   "source": [
    "df_clean.sample(2)"
   ]
  },
  {
   "cell_type": "code",
   "execution_count": 430,
   "metadata": {},
   "outputs": [
    {
     "data": {
      "text/plain": [
       "12.00    429\n",
       "10.00    413\n",
       "11.00    387\n",
       "13.00    235\n",
       "9.00     148\n",
       "8.00     93 \n",
       "7.00     51 \n",
       "6.00     32 \n",
       "5.00     32 \n",
       "14.00    29 \n",
       "3.00     19 \n",
       "4.00     14 \n",
       "2.00     9  \n",
       "1.00     4  \n",
       "0.00     2  \n",
       "11.26    1  \n",
       "9.75     1  \n",
       "13.50    1  \n",
       "11.27    1  \n",
       "Name: rating_numerator, dtype: int64"
      ]
     },
     "execution_count": 430,
     "metadata": {},
     "output_type": "execute_result"
    }
   ],
   "source": [
    "df_clean.rating_numerator.value_counts()"
   ]
  },
  {
   "cell_type": "code",
   "execution_count": 433,
   "metadata": {},
   "outputs": [
    {
     "data": {
      "image/png": "[encoded data removed]",
      "text/plain": [
       "<matplotlib.figure.Figure at 0x1a1a1e8e80>"
      ]
     },
     "metadata": {},
     "output_type": "display_data"
    }
   ],
   "source": [
    "#Visualization of the rating histogram\n",
    "#df_clean['rating_denominator'].plot(kind = 'hist', bins = 1)\n",
    "plt.figure(figsize = [8, 5]) # larger figure size for subplots\n",
    "\n",
    "# example of somewhat too-large bin size\n",
    "plt.hist(data = df_clean, x = 'rating_numerator');\n",
    "\n",
    "\n",
    "plt.title('How rates are distributed')\n",
    "plt.ylabel('Number of Dogs')\n",
    "plt.xlabel('Dog Rating');\n"
   ]
  },
  {
   "cell_type": "markdown",
   "metadata": {},
   "source": [
    "### Insight #1 \n",
    "The majority of the rates given are between 10 and 12 (not surprisingly because \"they are good dogs\")\n"
   ]
  },
  {
   "cell_type": "code",
   "execution_count": 426,
   "metadata": {},
   "outputs": [
    {
     "data": {
      "text/plain": [
       "8475.99316149395"
      ]
     },
     "execution_count": 426,
     "metadata": {},
     "output_type": "execute_result"
    },
    {
     "data": {
      "image/png": "[encoded data removed]",
      "text/plain": [
       "<matplotlib.figure.Figure at 0x1a0c864748>"
      ]
     },
     "metadata": {},
     "output_type": "display_data"
    }
   ],
   "source": [
    "#Visualization of the likes histogram\n",
    "df_clean['favorite_count'].plot(kind = 'hist', bins = 300)\n",
    "plt.xlim(0, 60000)\n",
    "plt.title('How likes are distributed')\n",
    "plt.ylabel('Number of Dogs')\n",
    "plt.xlabel('Dog Rating');\n",
    "\n",
    "df_clean['favorite_count'].mean()"
   ]
  },
  {
   "cell_type": "code",
   "execution_count": 434,
   "metadata": {},
   "outputs": [
    {
     "data": {
      "text/plain": [
       "2518.28669121515"
      ]
     },
     "execution_count": 434,
     "metadata": {},
     "output_type": "execute_result"
    },
    {
     "data": {
      "image/png": "[encoded data removed]",
      "text/plain": [
       "<matplotlib.figure.Figure at 0x1a187c6470>"
      ]
     },
     "metadata": {},
     "output_type": "display_data"
    }
   ],
   "source": [
    "#Visualization of the retweets distribution\n",
    "df_clean['retweet_count'].plot(kind = 'hist', bins = 300)\n",
    "plt.xlim(0, 20000)\n",
    "plt.title('How retweets are distributed')\n",
    "plt.ylabel('Number of Dogs')\n",
    "plt.xlabel('Dog Rating');\n",
    "\n",
    "df_clean['retweet_count'].mean()"
   ]
  },
  {
   "cell_type": "markdown",
   "metadata": {},
   "source": [
    "### Insight #2\n",
    "The average number of likes per tweet is 8473"
   ]
  },
  {
   "cell_type": "code",
   "execution_count": 428,
   "metadata": {},
   "outputs": [
    {
     "data": {
      "text/plain": [
       "golden_retriever      132\n",
       "Labrador_retriever    88 \n",
       "Pembroke              87 \n",
       "Chihuahua             76 \n",
       "pug                   54 \n",
       "chow                  41 \n",
       "toy_poodle            38 \n",
       "Samoyed               37 \n",
       "Pomeranian            37 \n",
       "malamute              29 \n",
       "Name: breed, dtype: int64"
      ]
     },
     "execution_count": 428,
     "metadata": {},
     "output_type": "execute_result"
    }
   ],
   "source": [
    "#Top breeds\n",
    "df_clean.breed.value_counts().head(10)"
   ]
  },
  {
   "cell_type": "code",
   "execution_count": 429,
   "metadata": {},
   "outputs": [
    {
     "data": {
      "text/html": [
       "<div>\n",
       "<style scoped>\n",
       "    .dataframe tbody tr th:only-of-type {\n",
       "        vertical-align: middle;\n",
       "    }\n",
       "\n",
       "    .dataframe tbody tr th {\n",
       "        vertical-align: top;\n",
       "    }\n",
       "\n",
       "    .dataframe thead th {\n",
       "        text-align: right;\n",
       "    }\n",
       "</style>\n",
       "<table border=\"1\" class=\"dataframe\">\n",
       "  <thead>\n",
       "    <tr style=\"text-align: right;\">\n",
       "      <th></th>\n",
       "      <th></th>\n",
       "      <th></th>\n",
       "      <th>tweet_id</th>\n",
       "      <th>rating_numerator</th>\n",
       "      <th>rating_denominator</th>\n",
       "      <th>confidence</th>\n",
       "    </tr>\n",
       "    <tr>\n",
       "      <th>favorite_count</th>\n",
       "      <th>retweet_count</th>\n",
       "      <th>breed</th>\n",
       "      <th></th>\n",
       "      <th></th>\n",
       "      <th></th>\n",
       "      <th></th>\n",
       "    </tr>\n",
       "  </thead>\n",
       "  <tbody>\n",
       "    <tr>\n",
       "      <th>81</th>\n",
       "      <th>16</th>\n",
       "      <th>English_setter</th>\n",
       "      <td>666102155909144576</td>\n",
       "      <td>11.0</td>\n",
       "      <td>10</td>\n",
       "      <td>0.298617</td>\n",
       "    </tr>\n",
       "    <tr>\n",
       "      <th>107</th>\n",
       "      <th>23</th>\n",
       "      <th>curly-coated_retriever</th>\n",
       "      <td>666447344410484736</td>\n",
       "      <td>9.0</td>\n",
       "      <td>10</td>\n",
       "      <td>0.322084</td>\n",
       "    </tr>\n",
       "    <tr>\n",
       "      <th>111</th>\n",
       "      <th>41</th>\n",
       "      <th>miniature_pinscher</th>\n",
       "      <td>666049248165822464</td>\n",
       "      <td>5.0</td>\n",
       "      <td>10</td>\n",
       "      <td>0.560311</td>\n",
       "    </tr>\n",
       "    <tr>\n",
       "      <th>113</th>\n",
       "      <th>44</th>\n",
       "      <th>black-and-tan_coonhound</th>\n",
       "      <td>666407126856765440</td>\n",
       "      <td>7.0</td>\n",
       "      <td>10</td>\n",
       "      <td>0.529139</td>\n",
       "    </tr>\n",
       "    <tr>\n",
       "      <th>115</th>\n",
       "      <th>61</th>\n",
       "      <th>miniature_poodle</th>\n",
       "      <td>666058600524156928</td>\n",
       "      <td>8.0</td>\n",
       "      <td>10</td>\n",
       "      <td>0.201493</td>\n",
       "    </tr>\n",
       "    <tr>\n",
       "      <th>...</th>\n",
       "      <th>...</th>\n",
       "      <th>...</th>\n",
       "      <td>...</td>\n",
       "      <td>...</td>\n",
       "      <td>...</td>\n",
       "      <td>...</td>\n",
       "    </tr>\n",
       "    <tr>\n",
       "      <th>73397</th>\n",
       "      <th>19297</th>\n",
       "      <th>Labrador_retriever</th>\n",
       "      <td>830583320585068544</td>\n",
       "      <td>13.0</td>\n",
       "      <td>10</td>\n",
       "      <td>0.908703</td>\n",
       "    </tr>\n",
       "    <tr>\n",
       "      <th>85011</th>\n",
       "      <th>27680</th>\n",
       "      <th>golden_retriever</th>\n",
       "      <td>870374049280663552</td>\n",
       "      <td>13.0</td>\n",
       "      <td>10</td>\n",
       "      <td>0.841001</td>\n",
       "    </tr>\n",
       "    <tr>\n",
       "      <th>95450</th>\n",
       "      <th>42228</th>\n",
       "      <th>standard_poodle</th>\n",
       "      <td>819004803107983360</td>\n",
       "      <td>14.0</td>\n",
       "      <td>10</td>\n",
       "      <td>0.351308</td>\n",
       "    </tr>\n",
       "    <tr>\n",
       "      <th>106827</th>\n",
       "      <th>32883</th>\n",
       "      <th>French_bulldog</th>\n",
       "      <td>866450705531457536</td>\n",
       "      <td>13.0</td>\n",
       "      <td>10</td>\n",
       "      <td>0.905334</td>\n",
       "    </tr>\n",
       "    <tr>\n",
       "      <th>132810</th>\n",
       "      <th>48265</th>\n",
       "      <th>Lakeland_terrier</th>\n",
       "      <td>822872901745569792</td>\n",
       "      <td>13.0</td>\n",
       "      <td>10</td>\n",
       "      <td>0.196015</td>\n",
       "    </tr>\n",
       "  </tbody>\n",
       "</table>\n",
       "<p>1415 rows × 4 columns</p>\n",
       "</div>"
      ],
      "text/plain": [
       "                                                                tweet_id  \\\n",
       "favorite_count retweet_count breed                                         \n",
       "81             16            English_setter           666102155909144576   \n",
       "107            23            curly-coated_retriever   666447344410484736   \n",
       "111            41            miniature_pinscher       666049248165822464   \n",
       "113            44            black-and-tan_coonhound  666407126856765440   \n",
       "115            61            miniature_poodle         666058600524156928   \n",
       "...                                                                  ...   \n",
       "73397          19297         Labrador_retriever       830583320585068544   \n",
       "85011          27680         golden_retriever         870374049280663552   \n",
       "95450          42228         standard_poodle          819004803107983360   \n",
       "106827         32883         French_bulldog           866450705531457536   \n",
       "132810         48265         Lakeland_terrier         822872901745569792   \n",
       "\n",
       "                                                      rating_numerator  \\\n",
       "favorite_count retweet_count breed                                       \n",
       "81             16            English_setter           11.0               \n",
       "107            23            curly-coated_retriever   9.0                \n",
       "111            41            miniature_pinscher       5.0                \n",
       "113            44            black-and-tan_coonhound  7.0                \n",
       "115            61            miniature_poodle         8.0                \n",
       "...                                                   ...                \n",
       "73397          19297         Labrador_retriever       13.0               \n",
       "85011          27680         golden_retriever         13.0               \n",
       "95450          42228         standard_poodle          14.0               \n",
       "106827         32883         French_bulldog           13.0               \n",
       "132810         48265         Lakeland_terrier         13.0               \n",
       "\n",
       "                                                      rating_denominator  \\\n",
       "favorite_count retweet_count breed                                         \n",
       "81             16            English_setter           10                   \n",
       "107            23            curly-coated_retriever   10                   \n",
       "111            41            miniature_pinscher       10                   \n",
       "113            44            black-and-tan_coonhound  10                   \n",
       "115            61            miniature_poodle         10                   \n",
       "...                                                   ..                   \n",
       "73397          19297         Labrador_retriever       10                   \n",
       "85011          27680         golden_retriever         10                   \n",
       "95450          42228         standard_poodle          10                   \n",
       "106827         32883         French_bulldog           10                   \n",
       "132810         48265         Lakeland_terrier         10                   \n",
       "\n",
       "                                                      confidence  \n",
       "favorite_count retweet_count breed                                \n",
       "81             16            English_setter           0.298617    \n",
       "107            23            curly-coated_retriever   0.322084    \n",
       "111            41            miniature_pinscher       0.560311    \n",
       "113            44            black-and-tan_coonhound  0.529139    \n",
       "115            61            miniature_poodle         0.201493    \n",
       "...                                                        ...    \n",
       "73397          19297         Labrador_retriever       0.908703    \n",
       "85011          27680         golden_retriever         0.841001    \n",
       "95450          42228         standard_poodle          0.351308    \n",
       "106827         32883         French_bulldog           0.905334    \n",
       "132810         48265         Lakeland_terrier         0.196015    \n",
       "\n",
       "[1415 rows x 4 columns]"
      ]
     },
     "execution_count": 429,
     "metadata": {},
     "output_type": "execute_result"
    }
   ],
   "source": [
    "df_clean.groupby(['favorite_count','retweet_count','breed']).mean()"
   ]
  },
  {
   "cell_type": "markdown",
   "metadata": {},
   "source": [
    "### Insight #3\n",
    "Lakeland_terriers seems to be the most popular type of dog and also for the channel manager, since the rates and the number of likes are also in line"
   ]
  },
  {
   "cell_type": "markdown",
   "metadata": {},
   "source": [
    "-----\n",
    "# END of DOC\n",
    "Thanks for reviewing"
   ]
  }
 ],
 "metadata": {
  "kernelspec": {
   "display_name": "Python [default]",
   "language": "python",
   "name": "python3"
  },
  "language_info": {
   "codemirror_mode": {
    "name": "ipython",
    "version": 3
   },
   "file_extension": ".py",
   "mimetype": "text/x-python",
   "name": "python",
   "nbconvert_exporter": "python",
   "pygments_lexer": "ipython3",
   "version": "3.6.4"
  }
 },
 "nbformat": 4,
 "nbformat_minor": 2
}

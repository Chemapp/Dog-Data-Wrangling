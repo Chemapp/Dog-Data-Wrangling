{
 "cells": [
  {
   "cell_type": "markdown",
   "metadata": {},
   "source": [
    "# act_report \n",
    "\n",
    "Jose María Prieto - Udacity student\n",
    "\n",
    "### Insight #1 The majority of the rates given are between 10 and 12 (not surprisingly because \"they are good dogs\")\n",
    "\n",
    "\n",
    "\n",
    ">![Rates distribution](insight1.png)\n",
    "<br/> #1 **take away:** Looking at the distribution of rates, we can observe the peculiar rating system of this channel, where most of the dogs are being rated above 10 out of 10. This channel has managed to creat a new way of rating dogs that all seems to accept and already calibrate internally.\n",
    "\n",
    "\n",
    "\n",
    "### Insight #2 The average number of likes per tweet is 8.5K and 2.5k retweets\n",
    "\n",
    "\n",
    ">![Likes](insight2.png)\n",
    "\n",
    ">![Retweets](insight3.png)\n",
    "<br/> #1 **take away:** The channels is obviously very popular and very engaging, being the average number of likes per post of above 8.5k. it would be interesting to know when the likes are happening.\n",
    "\n",
    "\n",
    "\n",
    "### Insight #3 Lakeland Terriers and French Bulldogs\n",
    "Lately, grouping by breed it seems pretty clear that the Lakeland_terriers seems to be the most popular type of dog, not just for the people following the channel, but also for the channel manager, since the rates and the number of likes are also in line.\n",
    "\n",
    ">![Rates distribution](insight1.png)\n",
    "<br/> #1 **take away:**\n",
    "\n",
    "\n",
    "\n",
    "## Moving forward\n",
    "We could look for deeper insights moving forward, and eventually try to figure out what are the popular type of dogs for the community, how correlate the likes with the ratings, time related insigths like when is the most popular time for posting, etc,\n"
   ]
  }
 ],
 "metadata": {
  "kernelspec": {
   "display_name": "Python [conda env:anaconda3]",
   "language": "python",
   "name": "conda-env-anaconda3-py"
  },
  "language_info": {
   "codemirror_mode": {
    "name": "ipython",
    "version": 3
   },
   "file_extension": ".py",
   "mimetype": "text/x-python",
   "name": "python",
   "nbconvert_exporter": "python",
   "pygments_lexer": "ipython3",
   "version": "3.6.4"
  }
 },
 "nbformat": 4,
 "nbformat_minor": 2
}
